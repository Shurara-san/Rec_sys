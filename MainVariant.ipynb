{
 "cells": [
  {
   "cell_type": "code",
   "execution_count": 1,
   "metadata": {
    "_cell_guid": "b1076dfc-b9ad-4769-8c92-a6c4dae69d19",
    "_uuid": "8f2839f25d086af736a60e9eeb907d3b93b6e0e5",
    "execution": {
     "iopub.execute_input": "2021-11-07T10:29:29.037461Z",
     "iopub.status.busy": "2021-11-07T10:29:29.036070Z",
     "iopub.status.idle": "2021-11-07T10:29:29.052553Z",
     "shell.execute_reply": "2021-11-07T10:29:29.053064Z",
     "shell.execute_reply.started": "2021-11-07T09:07:47.363390Z"
    },
    "papermill": {
     "duration": 0.063854,
     "end_time": "2021-11-07T10:29:29.053378",
     "exception": false,
     "start_time": "2021-11-07T10:29:28.989524",
     "status": "completed"
    },
    "tags": []
   },
   "outputs": [],
   "source": [
    "# This Python 3 environment comes with many helpful analytics libraries installed\n",
    "# It is defined by the kaggle/python Docker image: https://github.com/kaggle/docker-python\n",
    "# For example, here's several helpful packages to load\n",
    "\n",
    "import numpy as np # linear algebra\n",
    "import pandas as pd # data processing, CSV file I/O (e.g. pd.read_csv)\n",
    "\n",
    "# Input data files are available in the read-only \"../input/\" directory\n",
    "# For example, running this (by clicking run or pressing Shift+Enter) will list all files under the input directory\n",
    "\n",
    "import os\n",
    "for dirname, _, filenames in os.walk('/kaggle/input'):\n",
    "    for filename in filenames:\n",
    "        print(os.path.join(dirname, filename))\n",
    "\n",
    "# You can write up to 20GB to the current directory (/kaggle/working/) that gets preserved as output when you create a version using \"Save & Run All\" \n",
    "# You can also write temporary files to /kaggle/temp/, but they won't be saved outside of the current session"
   ]
  },
  {
   "cell_type": "code",
   "execution_count": 2,
   "metadata": {
    "execution": {
     "iopub.execute_input": "2021-11-07T10:29:29.149326Z",
     "iopub.status.busy": "2021-11-07T10:29:29.148403Z",
     "iopub.status.idle": "2021-11-07T10:29:31.334386Z",
     "shell.execute_reply": "2021-11-07T10:29:31.334968Z",
     "shell.execute_reply.started": "2021-11-07T09:07:47.377648Z"
    },
    "papermill": {
     "duration": 2.239162,
     "end_time": "2021-11-07T10:29:31.335200",
     "exception": false,
     "start_time": "2021-11-07T10:29:29.096038",
     "status": "completed"
    },
    "tags": []
   },
   "outputs": [],
   "source": [
    "# необходимые библиотеки\n",
    "\n",
    "import numpy as np\n",
    "import matplotlib.pyplot as plt\n",
    "%matplotlib inline\n",
    "\n",
    "# Для работы с матрицами\n",
    "from scipy.sparse import csr_matrix\n",
    "\n",
    "# Матричная факторизация\n",
    "from implicit import als\n",
    "\n",
    "# Модель второго уровня\n",
    "from lightgbm import LGBMClassifier\n",
    "from sklearn.neural_network import MLPClassifier\n",
    "\n",
    "import os, sys\n",
    "module_path = os.path.abspath(os.path.join(os.pardir))\n",
    "if module_path not in sys.path:\n",
    "    sys.path.append(module_path)\n",
    "\n",
    "import warnings\n",
    "\n",
    "warnings.filterwarnings(\"ignore\")"
   ]
  },
  {
   "cell_type": "code",
   "execution_count": 3,
   "metadata": {
    "execution": {
     "iopub.execute_input": "2021-11-07T10:29:31.425265Z",
     "iopub.status.busy": "2021-11-07T10:29:31.424562Z",
     "iopub.status.idle": "2021-11-07T10:29:31.439682Z",
     "shell.execute_reply": "2021-11-07T10:29:31.440243Z",
     "shell.execute_reply.started": "2021-11-07T09:07:47.389580Z"
    },
    "papermill": {
     "duration": 0.061035,
     "end_time": "2021-11-07T10:29:31.440443",
     "exception": false,
     "start_time": "2021-11-07T10:29:31.379408",
     "status": "completed"
    },
    "tags": []
   },
   "outputs": [],
   "source": [
    "# Необходимые функции из src:\n",
    "# metrics:\n",
    "\n",
    "def precision(recommended_list, bought_list):\n",
    "    \n",
    "    bought_list = np.array(bought_list)\n",
    "    recommended_list = np.array(recommended_list)\n",
    "    \n",
    "    flags = np.isin(bought_list, recommended_list)\n",
    "    \n",
    "    precision = flags.sum() / len(recommended_list)\n",
    "    \n",
    "    return precision\n",
    "\n",
    "\n",
    "def precision_at_k(recommended_list, bought_list, k=5):\n",
    "    \n",
    "    bought_list = np.array(bought_list)\n",
    "    recommended_list = np.array(recommended_list)\n",
    "    \n",
    "    bought_list = bought_list  # Тут нет [:k] !!\n",
    "    recommended_list = recommended_list[:k]\n",
    "    \n",
    "    flags = np.isin(bought_list, recommended_list)\n",
    "    \n",
    "    precision = flags.sum() / len(recommended_list)\n",
    "    \n",
    "    \n",
    "    return precision\n",
    "\n",
    "\n",
    "def money_precision_at_k(recommended_list, bought_list, prices_recommended, k=5):\n",
    "        \n",
    "    # your_code\n",
    "    # Лучше считать через матричное произведение, а не цикл\n",
    "    bought_list = np.array(bought_list)\n",
    "    recommended_list = np.array(recommended_list)\n",
    "    prices_recommended = np.array(prices_recommended)\n",
    "    \n",
    "    recommended_list = recommended_list[:k]\n",
    "    prices_recommended = prices_recommended[:k]\n",
    "    \n",
    "    # Почему здесь изменен порядок в функции isin?\n",
    "    flags = np.isin(recommended_list, bought_list)\n",
    "    \n",
    "    relevant_revenue = (flags * prices_recommended).sum()\n",
    "    recommended_revenue = prices_recommended.sum()\n",
    "    \n",
    "    precision = relevant_revenue / recommended_revenue\n",
    "    \n",
    "    return precision\n",
    "\n",
    "def recall(recommended_list, bought_list):\n",
    "    \n",
    "    bought_list = np.array(bought_list)\n",
    "    recommended_list = np.array(recommended_list)\n",
    "    \n",
    "    flags = np.isin(bought_list, recommended_list)\n",
    "    \n",
    "    recall = flags.sum() / len(bought_list)\n",
    "    \n",
    "    return recall\n",
    "\n",
    "\n",
    "def recall_at_k(recommended_list, bought_list, k=5):\n",
    "    \n",
    "    # your code\n",
    "    recall_at_k = recall(recommended_list[:k], bought_list)\n",
    "    \n",
    "    return recall_at_k\n",
    "\n",
    "\n",
    "def money_recall_at_k(recommended_list, bought_list, prices_recommended, prices_bought, k=5):\n",
    "    \n",
    "    # your_code\n",
    "    bought_list = np.array(bought_list)\n",
    "    recommended_list = np.array(recommended_list)\n",
    "    prices_recommended = np.array(prices_recommended)\n",
    "    prices_bought = np.array(prices_bought)\n",
    "\n",
    "    \n",
    "    assert recommended_list.shape == prices_recommended.shape\n",
    "    assert bought_list.shape == prices_bought.shape\n",
    "    \n",
    "    \n",
    "    recommended_list = recommended_list[:k]\n",
    "    prices_recommended = prices_recommended[:k]\n",
    "    \n",
    "    \n",
    "    flags = np.isin(bought_list, recommended_list)\n",
    "    \n",
    "    money_recall = (flags * prices_bought).sum() / (prices_bought).sum()\n",
    "    \n",
    "    return money_recall"
   ]
  },
  {
   "cell_type": "code",
   "execution_count": 4,
   "metadata": {
    "execution": {
     "iopub.execute_input": "2021-11-07T10:29:31.529490Z",
     "iopub.status.busy": "2021-11-07T10:29:31.528721Z",
     "iopub.status.idle": "2021-11-07T10:29:31.565257Z",
     "shell.execute_reply": "2021-11-07T10:29:31.565822Z",
     "shell.execute_reply.started": "2021-11-07T09:07:47.410260Z"
    },
    "papermill": {
     "duration": 0.082443,
     "end_time": "2021-11-07T10:29:31.565999",
     "exception": false,
     "start_time": "2021-11-07T10:29:31.483556",
     "status": "completed"
    },
    "tags": []
   },
   "outputs": [],
   "source": [
    "# recommenders:\n",
    "\n",
    "from scipy.sparse import csr_matrix\n",
    "\n",
    "# Матричная факторизация\n",
    "from implicit.als import AlternatingLeastSquares\n",
    "from implicit.bpr import BayesianPersonalizedRanking\n",
    "from implicit.lmf import LogisticMatrixFactorization\n",
    "\n",
    "from implicit.nearest_neighbours import ItemItemRecommender  # нужен для одного трюка\n",
    "from implicit.nearest_neighbours import bm25_weight, tfidf_weight\n",
    "\n",
    "\n",
    "class MainRecommender:\n",
    "    \"\"\"Рекоммендации, которые можно получить из ALS\n",
    "\n",
    "    Input\n",
    "    -----\n",
    "    user_item_matrix: pd.DataFrame\n",
    "        Матрица взаимодействий user-item\n",
    "    \"\"\"\n",
    "\n",
    "    def __init__(self, data, weighting=True):\n",
    "\n",
    "        # Топ покупок каждого юзера\n",
    "        self.top_purchases = data.groupby(['user_id', 'item_id'])['quantity'].count().reset_index()\n",
    "        self.top_purchases.sort_values('quantity', ascending=False, inplace=True)\n",
    "        self.top_purchases = self.top_purchases[self.top_purchases['item_id'] != 999999]\n",
    "\n",
    "        # Топ покупок по всему датасету\n",
    "        self.overall_top_purchases = data.groupby('item_id')['quantity'].count().reset_index()\n",
    "        self.overall_top_purchases.sort_values('quantity', ascending=False, inplace=True)\n",
    "        self.overall_top_purchases = self.overall_top_purchases[self.overall_top_purchases['item_id'] != 999999]\n",
    "        self.overall_top_purchases = self.overall_top_purchases.item_id.tolist()\n",
    "\n",
    "        self.user_item_matrix = self._prepare_matrix(data)  # pd.DataFrame\n",
    "        self.id_to_itemid, self.id_to_userid, \\\n",
    "            self.itemid_to_id, self.userid_to_id = self._prepare_dicts(self.user_item_matrix)\n",
    "\n",
    "        if weighting:\n",
    "            # self.user_item_matrix = bm25_weight(self.user_item_matrix.T).T\n",
    "            self.user_item_matrix = tfidf_weight(self.user_item_matrix.T).T\n",
    "\n",
    "        self.model = self.fit(self.user_item_matrix)\n",
    "        self.own_recommender = self.fit_own_recommender(self.user_item_matrix)\n",
    "\n",
    "    @staticmethod\n",
    "    def _prepare_matrix(data):\n",
    "        \"\"\"Готовит user-item матрицу\"\"\"\n",
    "        user_item_matrix = pd.pivot_table(data,\n",
    "                                          index='user_id', columns='item_id',\n",
    "                                          values='quantity',  # Можно пробовать другие варианты\n",
    "                                          aggfunc='count',\n",
    "                                          fill_value=0\n",
    "                                          )\n",
    "\n",
    "        user_item_matrix = user_item_matrix.astype(float)  # необходимый тип матрицы для implicit\n",
    "\n",
    "        return user_item_matrix\n",
    "\n",
    "    @staticmethod\n",
    "    def _prepare_dicts(user_item_matrix):\n",
    "        \"\"\"Подготавливает вспомогательные словари\"\"\"\n",
    "\n",
    "        userids = user_item_matrix.index.values\n",
    "        itemids = user_item_matrix.columns.values\n",
    "\n",
    "        matrix_userids = np.arange(len(userids))\n",
    "        matrix_itemids = np.arange(len(itemids))\n",
    "\n",
    "        id_to_itemid = dict(zip(matrix_itemids, itemids))\n",
    "        id_to_userid = dict(zip(matrix_userids, userids))\n",
    "\n",
    "        itemid_to_id = dict(zip(itemids, matrix_itemids))\n",
    "        userid_to_id = dict(zip(userids, matrix_userids))\n",
    "\n",
    "        return id_to_itemid, id_to_userid, itemid_to_id, userid_to_id\n",
    "\n",
    "    @staticmethod\n",
    "    def fit_own_recommender(user_item_matrix):\n",
    "        \"\"\"Обучает модель, которая рекомендует товары, среди товаров, купленных юзером\"\"\"\n",
    "\n",
    "        # own_recommender = ItemItemRecommender(K=1, num_threads=4)\n",
    "        own_recommender = ItemItemRecommender(K=3, num_threads=1)\n",
    "        own_recommender.fit(csr_matrix(user_item_matrix).T.tocsr())\n",
    "\n",
    "        return own_recommender\n",
    "\n",
    "    @staticmethod\n",
    "    def fit(user_item_matrix, n_factors=10, regularization=0.001, iterations=15, num_threads=1):\n",
    "#         \"\"\"Обучает LMF\"\"\"\n",
    "\n",
    "#         model = LogisticMatrixFactorization(factors=n_factors,\n",
    "#                                             regularization=regularization,\n",
    "#                                             iterations=iterations,\n",
    "#                                             num_threads=num_threads)\n",
    "#         model.fit(csr_matrix(user_item_matrix).T.tocsr())\n",
    "\n",
    "#         return model\n",
    "\n",
    "        \n",
    "#         \"\"\"Обучает BPR\"\"\"\n",
    "\n",
    "#         model = BayesianPersonalizedRanking(factors=n_factors,\n",
    "#                                             regularization=regularization,\n",
    "#                                             iterations=iterations,\n",
    "#                                             num_threads=num_threads)\n",
    "#         model.fit(csr_matrix(user_item_matrix).T.tocsr())\n",
    "\n",
    "#         return model\n",
    "\n",
    "        \"\"\"Обучает ALS\"\"\"\n",
    "\n",
    "        model = AlternatingLeastSquares(factors=n_factors,\n",
    "                                        regularization=regularization,\n",
    "                                        iterations=iterations,\n",
    "                                        num_threads=num_threads)\n",
    "        model.fit(csr_matrix(user_item_matrix).T.tocsr())\n",
    "\n",
    "        return model\n",
    "\n",
    "\n",
    "    def _update_dict(self, user_id):\n",
    "        \"\"\"Если появился новыю user / item, то нужно обновить словари\"\"\"\n",
    "\n",
    "        if user_id not in self.userid_to_id.keys():\n",
    "\n",
    "            max_id = max(list(self.userid_to_id.values()))\n",
    "            max_id += 1\n",
    "\n",
    "            self.userid_to_id.update({user_id: max_id})\n",
    "            self.id_to_userid.update({max_id: user_id})\n",
    "\n",
    "    def _get_similar_item(self, item_id):\n",
    "        \"\"\"Находит товар, похожий на item_id\"\"\"\n",
    "        recs = self.model.similar_items(self.itemid_to_id[item_id], N=2)  # Товар похож на себя -> рекомендуем 2 товара\n",
    "        top_rec = recs[1][0]  # И берем второй (не товар из аргумента метода)\n",
    "        return self.id_to_itemid[top_rec]\n",
    "\n",
    "    def _extend_with_top_popular(self, recommendations, N=5):\n",
    "        \"\"\"Если кол-во рекоммендаций < N, то дополняем их топ-популярными\"\"\"\n",
    "\n",
    "        if len(recommendations) < N:\n",
    "            recommendations.extend(self.overall_top_purchases[:N])\n",
    "            recommendations = recommendations[:N]\n",
    "\n",
    "        return recommendations\n",
    "\n",
    "    def _get_recommendations(self, user, model, N=5):\n",
    "        \"\"\"Рекомендации через стардартные библиотеки implicit\"\"\"\n",
    "\n",
    "        self._update_dict(user_id=user)\n",
    "        res = [self.id_to_itemid[rec[0]] for rec in model.recommend(userid=self.userid_to_id[user],\n",
    "                                        user_items=csr_matrix(self.user_item_matrix).tocsr(),\n",
    "                                        N=N,\n",
    "                                        filter_already_liked_items=False,\n",
    "                                        filter_items=[self.itemid_to_id[999999]],\n",
    "                                        recalculate_user=False)]\n",
    "\n",
    "#         res = [self.id_to_itemid[rec[0]] for rec in model.recommend(userid=self.userid_to_id[user],\n",
    "#                                         user_items=csr_matrix(self.user_item_matrix).tocsr(),\n",
    "#                                         N=N,\n",
    "#                                         filter_already_liked_items=False,\n",
    "#                                         filter_items=[self.itemid_to_id[999999]],\n",
    "#                                         recalculate_user=True)]\n",
    "\n",
    "        res = self._extend_with_top_popular(res, N=N)\n",
    "\n",
    "        assert len(res) == N, 'Количество рекомендаций != {}'.format(N)\n",
    "        return res\n",
    "\n",
    "    def get_als_recommendations(self, user, N=5):\n",
    "        \"\"\"Рекомендации через стардартные библиотеки implicit\"\"\"\n",
    "\n",
    "        self._update_dict(user_id=user)\n",
    "        return self._get_recommendations(user, model=self.model, N=N)\n",
    "\n",
    "    def get_own_recommendations(self, user, N=5):\n",
    "        \"\"\"Рекомендуем товары среди тех, которые юзер уже купил\"\"\"\n",
    "\n",
    "        self._update_dict(user_id=user)\n",
    "        return self._get_recommendations(user, model=self.own_recommender, N=N)\n",
    "\n",
    "    def get_similar_items_recommendation(self, user, N=5):\n",
    "        \"\"\"Рекомендуем товары, похожие на топ-N купленных юзером товаров\"\"\"\n",
    "\n",
    "        top_users_purchases = self.top_purchases[self.top_purchases['user_id'] == user].head(N)\n",
    "\n",
    "        res = top_users_purchases['item_id'].apply(lambda x: self._get_similar_item(x)).tolist()\n",
    "        res = self._extend_with_top_popular(res, N=N)\n",
    "\n",
    "        assert len(res) == N, 'Количество рекомендаций != {}'.format(N)\n",
    "        return res\n",
    "\n",
    "    def get_similar_users_recommendation(self, user, N=5):\n",
    "        \"\"\"Рекомендуем топ-N товаров, среди купленных похожими юзерами\"\"\"\n",
    "\n",
    "        res = []\n",
    "\n",
    "        # Находим топ-N похожих пользователей\n",
    "        similar_users = self.model.similar_users(self.userid_to_id[user], N=N+1)\n",
    "        similar_users = [rec[0] for rec in similar_users]\n",
    "        similar_users = similar_users[1:]   # удалим юзера из запроса\n",
    "\n",
    "        for user in similar_users:\n",
    "            res.extend(self.get_own_recommendations(user, N=1))\n",
    "\n",
    "        res = self._extend_with_top_popular(res, N=N)\n",
    "\n",
    "        assert len(res) == N, 'Количество рекомендаций != {}'.format(N)\n",
    "        return res"
   ]
  },
  {
   "cell_type": "code",
   "execution_count": 5,
   "metadata": {
    "execution": {
     "iopub.execute_input": "2021-11-07T10:29:31.654201Z",
     "iopub.status.busy": "2021-11-07T10:29:31.653523Z",
     "iopub.status.idle": "2021-11-07T10:29:31.668382Z",
     "shell.execute_reply": "2021-11-07T10:29:31.669000Z",
     "shell.execute_reply.started": "2021-11-07T09:07:47.448904Z"
    },
    "papermill": {
     "duration": 0.060512,
     "end_time": "2021-11-07T10:29:31.669181",
     "exception": false,
     "start_time": "2021-11-07T10:29:31.608669",
     "status": "completed"
    },
    "tags": []
   },
   "outputs": [],
   "source": [
    "# utils:\n",
    "\n",
    "def prefilter_items(data, take_n_popular=5000, item_features=None):\n",
    "    # Уберем самые популярные товары (их и так купят)\n",
    "    popularity = data.groupby('item_id')['user_id'].nunique().reset_index() / data['user_id'].nunique()\n",
    "    popularity.rename(columns={'user_id': 'share_unique_users'}, inplace=True)\n",
    "    \n",
    "    top_popular = popularity[popularity['share_unique_users'] > 0.5].item_id.tolist()\n",
    "    data = data[~data['item_id'].isin(top_popular)]\n",
    "    \n",
    "    # Уберем самые НЕ популярные товары (их и так НЕ купят)\n",
    "    top_notpopular = popularity[popularity['share_unique_users'] < 0.01].item_id.tolist()\n",
    "    data = data[~data['item_id'].isin(top_notpopular)]\n",
    "    \n",
    "    # Уберем товары, которые не продавались за последние 12 месяцев\n",
    "    data_lost_months = data[data['week_no'] >= data['week_no'].max() - 48]\n",
    "    not_zero_array = data_lost_months[data_lost_months['quantity'] > 0]['item_id'].unique()\n",
    "    zero_purchases = data_lost_months[data_lost_months[\"item_id\"].isin(not_zero_array) == False]['item_id'].unique()\n",
    "    data = data[data[\"item_id\"].isin(zero_purchases) == False]\n",
    "    \n",
    "    # Уберем не интересные для рекоммендаций категории (department)\n",
    "    \n",
    "    not_interesting = data[data['retail_disc'] < 0][data['quantity'] == 0]['item_id'].unique()\n",
    "    # те, что не продаются даже со скидками\n",
    "    data = data[data.isin(not_interesting) == False]\n",
    "    \n",
    "    # Уберем слишком дешевые товары (на них не заработаем). 1 покупка из рассылок стоит 60 руб.\n",
    "    \n",
    "    too_chip = data[data['sales_value'] < data['sales_value'].mean()][data['quantity'] > data['quantity'].mean()]['item_id']\n",
    "    # те, что дешевле среднего и при этом достаточно популярные\n",
    "    data = data[data.isin(too_chip) == False]\n",
    "    \n",
    "    # Уберем слишком дорогие товары\n",
    "    \n",
    "    too_expansive = data[data['sales_value'] > data['sales_value'].mean()][data['quantity'] < 1]['item_id']\n",
    "    # те, что дороже большинства и не покупаются (=> недостаточно интересные, чтобы быть настолько дорогими)\n",
    "    data = data[~data['item_id'].isin(too_expansive)]\n",
    "    \n",
    "    # Те товары, что не бывают без скидок:\n",
    "    \n",
    "    not_every_day_disc = data[data['retail_disc'] >= 0]['item_id'].unique()\n",
    "    data = data[data['item_id'].isin(not_every_day_disc)]\n",
    "    \n",
    "    # Возьмем топ по популярности\n",
    "    popularity = data.groupby('item_id')['quantity'].sum().reset_index()\n",
    "    popularity.rename(columns={'quantity': 'n_sold'}, inplace=True)\n",
    "\n",
    "    top = popularity.sort_values('n_sold', ascending=False).head(take_n_popular).item_id.tolist()\n",
    "    \n",
    "    # Заведем фиктивный item_id (если юзер покупал товары из топ-5000, то он \"купил\" такой товар)\n",
    "    data.loc[~data['item_id'].isin(top), 'item_id'] = 999999\n",
    "    \n",
    "    return data"
   ]
  },
  {
   "cell_type": "markdown",
   "metadata": {},
   "source": [
    "### Подготовка данных:"
   ]
  },
  {
   "cell_type": "code",
   "execution_count": 7,
   "metadata": {
    "execution": {
     "iopub.execute_input": "2021-11-07T10:29:31.762012Z",
     "iopub.status.busy": "2021-11-07T10:29:31.761306Z",
     "iopub.status.idle": "2021-11-07T10:29:36.501688Z",
     "shell.execute_reply": "2021-11-07T10:29:36.500684Z",
     "shell.execute_reply.started": "2021-11-07T09:07:47.466656Z"
    },
    "papermill": {
     "duration": 4.78947,
     "end_time": "2021-11-07T10:29:36.501845",
     "exception": false,
     "start_time": "2021-11-07T10:29:31.712375",
     "status": "completed"
    },
    "tags": []
   },
   "outputs": [],
   "source": [
    "data = pd.read_csv('retail_train.csv')\n",
    "item_features = pd.read_csv('product.csv')\n",
    "user_features = pd.read_csv('hh_demographic.csv')\n",
    "\n",
    "item_features.columns = [col.lower() for col in item_features.columns]\n",
    "user_features.columns = [col.lower() for col in user_features.columns]\n",
    "\n",
    "item_features.rename(columns={'product_id': 'item_id'}, inplace=True)\n",
    "user_features.rename(columns={'household_key': 'user_id'}, inplace=True)\n"
   ]
  },
  {
   "cell_type": "code",
   "execution_count": 8,
   "metadata": {
    "execution": {
     "iopub.execute_input": "2021-11-07T10:29:36.653951Z",
     "iopub.status.busy": "2021-11-07T10:29:36.653296Z",
     "iopub.status.idle": "2021-11-07T10:29:36.836204Z",
     "shell.execute_reply": "2021-11-07T10:29:36.835660Z",
     "shell.execute_reply.started": "2021-11-07T09:07:50.630712Z"
    },
    "papermill": {
     "duration": 0.290176,
     "end_time": "2021-11-07T10:29:36.836341",
     "exception": false,
     "start_time": "2021-11-07T10:29:36.546165",
     "status": "completed"
    },
    "tags": []
   },
   "outputs": [
    {
     "data": {
      "text/html": [
       "<div>\n",
       "<style scoped>\n",
       "    .dataframe tbody tr th:only-of-type {\n",
       "        vertical-align: middle;\n",
       "    }\n",
       "\n",
       "    .dataframe tbody tr th {\n",
       "        vertical-align: top;\n",
       "    }\n",
       "\n",
       "    .dataframe thead th {\n",
       "        text-align: right;\n",
       "    }\n",
       "</style>\n",
       "<table border=\"1\" class=\"dataframe\">\n",
       "  <thead>\n",
       "    <tr style=\"text-align: right;\">\n",
       "      <th></th>\n",
       "      <th>user_id</th>\n",
       "      <th>basket_id</th>\n",
       "      <th>day</th>\n",
       "      <th>item_id</th>\n",
       "      <th>quantity</th>\n",
       "      <th>sales_value</th>\n",
       "      <th>store_id</th>\n",
       "      <th>retail_disc</th>\n",
       "      <th>trans_time</th>\n",
       "      <th>week_no</th>\n",
       "      <th>coupon_disc</th>\n",
       "      <th>coupon_match_disc</th>\n",
       "    </tr>\n",
       "  </thead>\n",
       "  <tbody>\n",
       "    <tr>\n",
       "      <th>0</th>\n",
       "      <td>2375</td>\n",
       "      <td>26984851472</td>\n",
       "      <td>1</td>\n",
       "      <td>1004906</td>\n",
       "      <td>1</td>\n",
       "      <td>1.39</td>\n",
       "      <td>364</td>\n",
       "      <td>-0.6</td>\n",
       "      <td>1631</td>\n",
       "      <td>1</td>\n",
       "      <td>0.0</td>\n",
       "      <td>0.0</td>\n",
       "    </tr>\n",
       "    <tr>\n",
       "      <th>1</th>\n",
       "      <td>2375</td>\n",
       "      <td>26984851472</td>\n",
       "      <td>1</td>\n",
       "      <td>1033142</td>\n",
       "      <td>1</td>\n",
       "      <td>0.82</td>\n",
       "      <td>364</td>\n",
       "      <td>0.0</td>\n",
       "      <td>1631</td>\n",
       "      <td>1</td>\n",
       "      <td>0.0</td>\n",
       "      <td>0.0</td>\n",
       "    </tr>\n",
       "  </tbody>\n",
       "</table>\n",
       "</div>"
      ],
      "text/plain": [
       "   user_id    basket_id  day  item_id  quantity  sales_value  store_id  \\\n",
       "0     2375  26984851472    1  1004906         1         1.39       364   \n",
       "1     2375  26984851472    1  1033142         1         0.82       364   \n",
       "\n",
       "   retail_disc  trans_time  week_no  coupon_disc  coupon_match_disc  \n",
       "0         -0.6        1631        1          0.0                0.0  \n",
       "1          0.0        1631        1          0.0                0.0  "
      ]
     },
     "execution_count": 8,
     "metadata": {},
     "output_type": "execute_result"
    }
   ],
   "source": [
    "val_lvl_1_size_weeks = 6\n",
    "val_lvl_2_size_weeks = 3\n",
    "\n",
    "data_train_lvl_1 = data[data['week_no'] < data['week_no'].max() - (val_lvl_1_size_weeks + val_lvl_2_size_weeks)]\n",
    "data_val_lvl_1 = data[(data['week_no'] >= data['week_no'].max() - (val_lvl_1_size_weeks + val_lvl_2_size_weeks)) &\n",
    "                      (data['week_no'] < data['week_no'].max() - (val_lvl_2_size_weeks))]\n",
    "\n",
    "data_train_lvl_2 = data_val_lvl_1.copy()  # Для наглядности. Далее мы добавим изменения, и они будут отличаться\n",
    "data_val_lvl_2 = data[data['week_no'] >= data['week_no'].max() - val_lvl_2_size_weeks]\n",
    "\n",
    "data_train_lvl_1.head(2)"
   ]
  },
  {
   "cell_type": "code",
   "execution_count": 9,
   "metadata": {
    "execution": {
     "iopub.execute_input": "2021-11-07T10:29:36.928301Z",
     "iopub.status.busy": "2021-11-07T10:29:36.927627Z",
     "iopub.status.idle": "2021-11-07T10:29:42.089427Z",
     "shell.execute_reply": "2021-11-07T10:29:42.089978Z",
     "shell.execute_reply.started": "2021-11-07T09:07:50.790273Z"
    },
    "papermill": {
     "duration": 5.210777,
     "end_time": "2021-11-07T10:29:42.090169",
     "exception": false,
     "start_time": "2021-11-07T10:29:36.879392",
     "status": "completed"
    },
    "tags": []
   },
   "outputs": [
    {
     "name": "stdout",
     "output_type": "stream",
     "text": [
      "Decreased # items from 83685 to 5001\n"
     ]
    }
   ],
   "source": [
    "n_items_before = data_train_lvl_1['item_id'].nunique()\n",
    "\n",
    "data_train_lvl_1 = prefilter_items(data_train_lvl_1, 5000)\n",
    "\n",
    "n_items_after = data_train_lvl_1['item_id'].nunique()\n",
    "print('Decreased # items from {} to {}'.format(n_items_before, n_items_after))"
   ]
  },
  {
   "cell_type": "code",
   "execution_count": 10,
   "metadata": {
    "execution": {
     "iopub.execute_input": "2021-11-07T10:29:42.182333Z",
     "iopub.status.busy": "2021-11-07T10:29:42.181697Z",
     "iopub.status.idle": "2021-11-07T10:29:51.064995Z",
     "shell.execute_reply": "2021-11-07T10:29:51.065551Z",
     "shell.execute_reply.started": "2021-11-07T09:07:55.953255Z"
    },
    "papermill": {
     "duration": 8.930563,
     "end_time": "2021-11-07T10:29:51.065763",
     "exception": false,
     "start_time": "2021-11-07T10:29:42.135200",
     "status": "completed"
    },
    "tags": []
   },
   "outputs": [
    {
     "name": "stderr",
     "output_type": "stream",
     "text": [
      "WARNING:root:OpenBLAS detected. Its highly recommend to set the environment variable 'export OPENBLAS_NUM_THREADS=1' to disable its internal multithreading\n"
     ]
    },
    {
     "data": {
      "application/vnd.jupyter.widget-view+json": {
       "model_id": "6685a02b648042879a3cd9d34a8a91e9",
       "version_major": 2,
       "version_minor": 0
      },
      "text/plain": [
       "HBox(children=(FloatProgress(value=0.0, max=15.0), HTML(value='')))"
      ]
     },
     "metadata": {},
     "output_type": "display_data"
    },
    {
     "name": "stdout",
     "output_type": "stream",
     "text": [
      "\n"
     ]
    },
    {
     "data": {
      "application/vnd.jupyter.widget-view+json": {
       "model_id": "1a747e89be9a45bf8672429bd2c09c6c",
       "version_major": 2,
       "version_minor": 0
      },
      "text/plain": [
       "HBox(children=(FloatProgress(value=0.0, max=5001.0), HTML(value='')))"
      ]
     },
     "metadata": {},
     "output_type": "display_data"
    },
    {
     "name": "stdout",
     "output_type": "stream",
     "text": [
      "\n"
     ]
    }
   ],
   "source": [
    "recommender = MainRecommender(data_train_lvl_1)"
   ]
  },
  {
   "cell_type": "code",
   "execution_count": 11,
   "metadata": {
    "execution": {
     "iopub.execute_input": "2021-11-07T10:29:51.164590Z",
     "iopub.status.busy": "2021-11-07T10:29:51.160334Z",
     "iopub.status.idle": "2021-11-07T10:29:51.326844Z",
     "shell.execute_reply": "2021-11-07T10:29:51.326160Z",
     "shell.execute_reply.started": "2021-11-07T09:08:04.687156Z"
    },
    "papermill": {
     "duration": 0.21523,
     "end_time": "2021-11-07T10:29:51.327002",
     "exception": false,
     "start_time": "2021-11-07T10:29:51.111772",
     "status": "completed"
    },
    "tags": []
   },
   "outputs": [
    {
     "data": {
      "text/html": [
       "<div>\n",
       "<style scoped>\n",
       "    .dataframe tbody tr th:only-of-type {\n",
       "        vertical-align: middle;\n",
       "    }\n",
       "\n",
       "    .dataframe tbody tr th {\n",
       "        vertical-align: top;\n",
       "    }\n",
       "\n",
       "    .dataframe thead th {\n",
       "        text-align: right;\n",
       "    }\n",
       "</style>\n",
       "<table border=\"1\" class=\"dataframe\">\n",
       "  <thead>\n",
       "    <tr style=\"text-align: right;\">\n",
       "      <th></th>\n",
       "      <th>user_id</th>\n",
       "      <th>actual</th>\n",
       "    </tr>\n",
       "  </thead>\n",
       "  <tbody>\n",
       "    <tr>\n",
       "      <th>0</th>\n",
       "      <td>1</td>\n",
       "      <td>[853529, 865456, 867607, 872137, 874905, 87524...</td>\n",
       "    </tr>\n",
       "    <tr>\n",
       "      <th>1</th>\n",
       "      <td>2</td>\n",
       "      <td>[15830248, 838136, 839656, 861272, 866211, 870...</td>\n",
       "    </tr>\n",
       "  </tbody>\n",
       "</table>\n",
       "</div>"
      ],
      "text/plain": [
       "   user_id                                             actual\n",
       "0        1  [853529, 865456, 867607, 872137, 874905, 87524...\n",
       "1        2  [15830248, 838136, 839656, 861272, 866211, 870..."
      ]
     },
     "execution_count": 11,
     "metadata": {},
     "output_type": "execute_result"
    }
   ],
   "source": [
    "users_lvl_2 = pd.DataFrame(data_train_lvl_2['user_id'].unique())\n",
    "users_lvl_2.columns = ['user_id']\n",
    "\n",
    "train_users = data_train_lvl_1['user_id'].unique()\n",
    "\n",
    "result_lvl_1 = data_val_lvl_1.groupby('user_id')['item_id'].unique().reset_index()\n",
    "result_lvl_1 = result_lvl_1.query('user_id in @train_users')\n",
    "result_lvl_1.columns=['user_id', 'actual']\n",
    "result_lvl_1.head(2)"
   ]
  },
  {
   "cell_type": "markdown",
   "metadata": {},
   "source": [
    "#### Результат работы модели первого уровня (лучший из полученых мною результатов на Kaggle, в функции fit_own_recommender использовалось значение K=3, вес в MainRecommender - tfidf_weight):"
   ]
  },
  {
   "cell_type": "code",
   "execution_count": 12,
   "metadata": {
    "execution": {
     "iopub.execute_input": "2021-11-07T10:29:51.426910Z",
     "iopub.status.busy": "2021-11-07T10:29:51.425910Z",
     "iopub.status.idle": "2021-11-07T10:30:09.861097Z",
     "shell.execute_reply": "2021-11-07T10:30:09.860479Z",
     "shell.execute_reply.started": "2021-11-07T09:08:04.848843Z"
    },
    "papermill": {
     "duration": 18.487673,
     "end_time": "2021-11-07T10:30:09.861234",
     "exception": false,
     "start_time": "2021-11-07T10:29:51.373561",
     "status": "completed"
    },
    "tags": []
   },
   "outputs": [
    {
     "data": {
      "text/plain": [
       "3.699310170377275"
      ]
     },
     "execution_count": 12,
     "metadata": {},
     "output_type": "execute_result"
    }
   ],
   "source": [
    "result_lvl_1['own_rec'] = [recommender.get_own_recommendations(i, N=5) for i in list(result_lvl_1['user_id'])]\n",
    "\n",
    "result_lvl_1.apply(lambda x: recall_at_k(x['own_rec'], x['actual'], 5), axis=1).mean() * 100"
   ]
  },
  {
   "cell_type": "code",
   "execution_count": 14,
   "metadata": {
    "execution": {
     "iopub.execute_input": "2021-11-07T10:30:09.955858Z",
     "iopub.status.busy": "2021-11-07T10:30:09.954882Z",
     "iopub.status.idle": "2021-11-07T10:30:10.071848Z",
     "shell.execute_reply": "2021-11-07T10:30:10.072433Z",
     "shell.execute_reply.started": "2021-11-07T09:08:23.807679Z"
    },
    "papermill": {
     "duration": 0.165844,
     "end_time": "2021-11-07T10:30:10.072631",
     "exception": false,
     "start_time": "2021-11-07T10:30:09.906787",
     "status": "completed"
    },
    "tags": []
   },
   "outputs": [],
   "source": [
    "item_features = pd.read_csv('product.csv')\n",
    "user_features = pd.read_csv('hh_demographic.csv')\n",
    "\n",
    "item_features.columns = [col.lower() for col in item_features.columns]\n",
    "user_features.columns = [col.lower() for col in user_features.columns]\n",
    "\n",
    "item_features.rename(columns={'product_id': 'item_id'}, inplace=True)\n",
    "user_features.rename(columns={'household_key': 'user_id'}, inplace=True)"
   ]
  },
  {
   "cell_type": "code",
   "execution_count": 15,
   "metadata": {
    "execution": {
     "iopub.execute_input": "2021-11-07T10:30:10.168310Z",
     "iopub.status.busy": "2021-11-07T10:30:10.167338Z",
     "iopub.status.idle": "2021-11-07T10:30:10.181216Z",
     "shell.execute_reply": "2021-11-07T10:30:10.181797Z",
     "shell.execute_reply.started": "2021-11-07T09:08:23.929516Z"
    },
    "papermill": {
     "duration": 0.063381,
     "end_time": "2021-11-07T10:30:10.181971",
     "exception": false,
     "start_time": "2021-11-07T10:30:10.118590",
     "status": "completed"
    },
    "tags": []
   },
   "outputs": [
    {
     "data": {
      "text/html": [
       "<div>\n",
       "<style scoped>\n",
       "    .dataframe tbody tr th:only-of-type {\n",
       "        vertical-align: middle;\n",
       "    }\n",
       "\n",
       "    .dataframe tbody tr th {\n",
       "        vertical-align: top;\n",
       "    }\n",
       "\n",
       "    .dataframe thead th {\n",
       "        text-align: right;\n",
       "    }\n",
       "</style>\n",
       "<table border=\"1\" class=\"dataframe\">\n",
       "  <thead>\n",
       "    <tr style=\"text-align: right;\">\n",
       "      <th></th>\n",
       "      <th>user_id</th>\n",
       "      <th>basket_id</th>\n",
       "      <th>day</th>\n",
       "      <th>item_id</th>\n",
       "      <th>quantity</th>\n",
       "      <th>sales_value</th>\n",
       "      <th>store_id</th>\n",
       "      <th>retail_disc</th>\n",
       "      <th>trans_time</th>\n",
       "      <th>week_no</th>\n",
       "      <th>coupon_disc</th>\n",
       "      <th>coupon_match_disc</th>\n",
       "    </tr>\n",
       "  </thead>\n",
       "  <tbody>\n",
       "    <tr>\n",
       "      <th>2104867</th>\n",
       "      <td>2070</td>\n",
       "      <td>40618492260</td>\n",
       "      <td>594</td>\n",
       "      <td>1019940</td>\n",
       "      <td>1</td>\n",
       "      <td>1.00</td>\n",
       "      <td>311</td>\n",
       "      <td>-0.29</td>\n",
       "      <td>40</td>\n",
       "      <td>86</td>\n",
       "      <td>0.0</td>\n",
       "      <td>0.0</td>\n",
       "    </tr>\n",
       "    <tr>\n",
       "      <th>2107468</th>\n",
       "      <td>2021</td>\n",
       "      <td>40618753059</td>\n",
       "      <td>594</td>\n",
       "      <td>840361</td>\n",
       "      <td>1</td>\n",
       "      <td>0.99</td>\n",
       "      <td>443</td>\n",
       "      <td>0.00</td>\n",
       "      <td>101</td>\n",
       "      <td>86</td>\n",
       "      <td>0.0</td>\n",
       "      <td>0.0</td>\n",
       "    </tr>\n",
       "  </tbody>\n",
       "</table>\n",
       "</div>"
      ],
      "text/plain": [
       "         user_id    basket_id  day  item_id  quantity  sales_value  store_id  \\\n",
       "2104867     2070  40618492260  594  1019940         1         1.00       311   \n",
       "2107468     2021  40618753059  594   840361         1         0.99       443   \n",
       "\n",
       "         retail_disc  trans_time  week_no  coupon_disc  coupon_match_disc  \n",
       "2104867        -0.29          40       86          0.0                0.0  \n",
       "2107468         0.00         101       86          0.0                0.0  "
      ]
     },
     "execution_count": 15,
     "metadata": {},
     "output_type": "execute_result"
    }
   ],
   "source": [
    "data_train_lvl_2.head(2)"
   ]
  },
  {
   "cell_type": "code",
   "execution_count": 16,
   "metadata": {
    "execution": {
     "iopub.execute_input": "2021-11-07T10:30:10.277127Z",
     "iopub.status.busy": "2021-11-07T10:30:10.276147Z",
     "iopub.status.idle": "2021-11-07T10:30:10.640985Z",
     "shell.execute_reply": "2021-11-07T10:30:10.640454Z",
     "shell.execute_reply.started": "2021-11-07T09:08:23.947016Z"
    },
    "papermill": {
     "duration": 0.41373,
     "end_time": "2021-11-07T10:30:10.641141",
     "exception": false,
     "start_time": "2021-11-07T10:30:10.227411",
     "status": "completed"
    },
    "tags": []
   },
   "outputs": [
    {
     "name": "stdout",
     "output_type": "stream",
     "text": [
      "Decreased # items from 27649 to 5001\n"
     ]
    }
   ],
   "source": [
    "n_items_before = data_train_lvl_2['item_id'].nunique()\n",
    "\n",
    "data_train_lvl_2 = prefilter_items(data_train_lvl_2)\n",
    "\n",
    "n_items_after = data_train_lvl_2['item_id'].nunique()\n",
    "print('Decreased # items from {} to {}'.format(n_items_before, n_items_after))"
   ]
  },
  {
   "cell_type": "code",
   "execution_count": 17,
   "metadata": {
    "execution": {
     "iopub.execute_input": "2021-11-07T10:30:10.742264Z",
     "iopub.status.busy": "2021-11-07T10:30:10.741228Z",
     "iopub.status.idle": "2021-11-07T10:30:28.613417Z",
     "shell.execute_reply": "2021-11-07T10:30:28.612829Z",
     "shell.execute_reply.started": "2021-11-07T09:08:24.308832Z"
    },
    "papermill": {
     "duration": 17.925799,
     "end_time": "2021-11-07T10:30:28.613574",
     "exception": false,
     "start_time": "2021-11-07T10:30:10.687775",
     "status": "completed"
    },
    "tags": []
   },
   "outputs": [],
   "source": [
    "users_lvl_2 = pd.DataFrame(data_train_lvl_2['user_id'].unique())\n",
    "users_lvl_2.columns = ['user_id']\n",
    "\n",
    "train_users = data_train_lvl_1['user_id'].unique()\n",
    "users_lvl_2 = users_lvl_2[users_lvl_2['user_id'].isin(train_users)]\n",
    "\n",
    "users_lvl_2['candidates'] = users_lvl_2['user_id'].apply(lambda x: recommender.get_own_recommendations(x, N=5))"
   ]
  },
  {
   "cell_type": "code",
   "execution_count": 18,
   "metadata": {
    "execution": {
     "iopub.execute_input": "2021-11-07T10:30:28.716366Z",
     "iopub.status.busy": "2021-11-07T10:30:28.715678Z",
     "iopub.status.idle": "2021-11-07T10:30:28.719669Z",
     "shell.execute_reply": "2021-11-07T10:30:28.719058Z",
     "shell.execute_reply.started": "2021-11-07T09:08:42.874918Z"
    },
    "papermill": {
     "duration": 0.06023,
     "end_time": "2021-11-07T10:30:28.719803",
     "exception": false,
     "start_time": "2021-11-07T10:30:28.659573",
     "status": "completed"
    },
    "tags": []
   },
   "outputs": [
    {
     "data": {
      "text/html": [
       "<div>\n",
       "<style scoped>\n",
       "    .dataframe tbody tr th:only-of-type {\n",
       "        vertical-align: middle;\n",
       "    }\n",
       "\n",
       "    .dataframe tbody tr th {\n",
       "        vertical-align: top;\n",
       "    }\n",
       "\n",
       "    .dataframe thead th {\n",
       "        text-align: right;\n",
       "    }\n",
       "</style>\n",
       "<table border=\"1\" class=\"dataframe\">\n",
       "  <thead>\n",
       "    <tr style=\"text-align: right;\">\n",
       "      <th></th>\n",
       "      <th>user_id</th>\n",
       "      <th>candidates</th>\n",
       "    </tr>\n",
       "  </thead>\n",
       "  <tbody>\n",
       "    <tr>\n",
       "      <th>0</th>\n",
       "      <td>2021</td>\n",
       "      <td>[1082185.0, 6534178.0, 981760.0, 951590.0, 102...</td>\n",
       "    </tr>\n",
       "    <tr>\n",
       "      <th>1</th>\n",
       "      <td>1753</td>\n",
       "      <td>[1082185.0, 6534178.0, 1029743.0, 1106523.0, 1...</td>\n",
       "    </tr>\n",
       "  </tbody>\n",
       "</table>\n",
       "</div>"
      ],
      "text/plain": [
       "   user_id                                         candidates\n",
       "0     2021  [1082185.0, 6534178.0, 981760.0, 951590.0, 102...\n",
       "1     1753  [1082185.0, 6534178.0, 1029743.0, 1106523.0, 1..."
      ]
     },
     "execution_count": 18,
     "metadata": {},
     "output_type": "execute_result"
    }
   ],
   "source": [
    "users_lvl_2.head(2)"
   ]
  },
  {
   "cell_type": "code",
   "execution_count": 19,
   "metadata": {
    "execution": {
     "iopub.execute_input": "2021-11-07T10:30:28.840150Z",
     "iopub.status.busy": "2021-11-07T10:30:28.834869Z",
     "iopub.status.idle": "2021-11-07T10:30:29.333276Z",
     "shell.execute_reply": "2021-11-07T10:30:29.332751Z",
     "shell.execute_reply.started": "2021-11-07T09:08:42.887348Z"
    },
    "papermill": {
     "duration": 0.566688,
     "end_time": "2021-11-07T10:30:29.333433",
     "exception": false,
     "start_time": "2021-11-07T10:30:28.766745",
     "status": "completed"
    },
    "tags": []
   },
   "outputs": [
    {
     "data": {
      "text/html": [
       "<div>\n",
       "<style scoped>\n",
       "    .dataframe tbody tr th:only-of-type {\n",
       "        vertical-align: middle;\n",
       "    }\n",
       "\n",
       "    .dataframe tbody tr th {\n",
       "        vertical-align: top;\n",
       "    }\n",
       "\n",
       "    .dataframe thead th {\n",
       "        text-align: right;\n",
       "    }\n",
       "</style>\n",
       "<table border=\"1\" class=\"dataframe\">\n",
       "  <thead>\n",
       "    <tr style=\"text-align: right;\">\n",
       "      <th></th>\n",
       "      <th>user_id</th>\n",
       "      <th>item_id</th>\n",
       "      <th>flag</th>\n",
       "    </tr>\n",
       "  </thead>\n",
       "  <tbody>\n",
       "    <tr>\n",
       "      <th>0</th>\n",
       "      <td>2021</td>\n",
       "      <td>1082185.0</td>\n",
       "      <td>1</td>\n",
       "    </tr>\n",
       "    <tr>\n",
       "      <th>0</th>\n",
       "      <td>2021</td>\n",
       "      <td>6534178.0</td>\n",
       "      <td>1</td>\n",
       "    </tr>\n",
       "    <tr>\n",
       "      <th>0</th>\n",
       "      <td>2021</td>\n",
       "      <td>981760.0</td>\n",
       "      <td>1</td>\n",
       "    </tr>\n",
       "    <tr>\n",
       "      <th>0</th>\n",
       "      <td>2021</td>\n",
       "      <td>951590.0</td>\n",
       "      <td>1</td>\n",
       "    </tr>\n",
       "  </tbody>\n",
       "</table>\n",
       "</div>"
      ],
      "text/plain": [
       "   user_id    item_id  flag\n",
       "0     2021  1082185.0     1\n",
       "0     2021  6534178.0     1\n",
       "0     2021   981760.0     1\n",
       "0     2021   951590.0     1"
      ]
     },
     "execution_count": 19,
     "metadata": {},
     "output_type": "execute_result"
    }
   ],
   "source": [
    "s = users_lvl_2.apply(lambda x: pd.Series(x['candidates']), axis=1).stack().reset_index(level=1, drop=True)\n",
    "s.name = 'item_id'\n",
    "\n",
    "users_lvl_2 = users_lvl_2.drop('candidates', axis=1).join(s)\n",
    "users_lvl_2['flag'] = 1\n",
    "\n",
    "users_lvl_2.head(4)"
   ]
  },
  {
   "cell_type": "markdown",
   "metadata": {},
   "source": [
    "## Генерация признаков:"
   ]
  },
  {
   "cell_type": "code",
   "execution_count": 20,
   "metadata": {
    "execution": {
     "iopub.execute_input": "2021-11-07T10:30:29.431259Z",
     "iopub.status.busy": "2021-11-07T10:30:29.430590Z",
     "iopub.status.idle": "2021-11-07T10:30:49.511542Z",
     "shell.execute_reply": "2021-11-07T10:30:49.510879Z",
     "shell.execute_reply.started": "2021-11-07T09:08:43.452632Z"
    },
    "papermill": {
     "duration": 20.131273,
     "end_time": "2021-11-07T10:30:49.511692",
     "exception": false,
     "start_time": "2021-11-07T10:30:29.380419",
     "status": "completed"
    },
    "tags": []
   },
   "outputs": [],
   "source": [
    "# генерация признаков:\n",
    "# для пользователя:\n",
    "\n",
    "# общая сумма покупок за период покупателя:\n",
    "for i in user_features[\"user_id\"]:\n",
    "    receipts = list()\n",
    "    max_quantity = 0\n",
    "    most_popular = 0\n",
    "    \n",
    "    user_features.loc[user_features['user_id'] == i, 'total_sum'] = data_train_lvl_2[data_train_lvl_2['user_id'] == i]['sales_value'].sum()\n",
    "    \n",
    "    # средний чек:\n",
    "    for j in data_train_lvl_2[data_train_lvl_2['user_id'] == i]['basket_id'].unique():\n",
    "        receipts.append(data_train_lvl_2[data_train_lvl_2['user_id'] == i][data_train_lvl_2['basket_id'] == j]['sales_value'].sum())\n",
    "    if len(receipts) != 0:\n",
    "        user_features.loc[user_features['user_id'] == i, 'average_receipt'] = sum(receipts)/len(receipts)\n",
    "    else: user_features.loc[user_features['user_id'] == i, 'average_receipt'] = 0\n",
    "    \n",
    "    # самый популярный магазин:\n",
    "    for j in data_train_lvl_2[data_train_lvl_2['user_id'] == i]['store_id'].unique():\n",
    "        new_m = len(data_train_lvl_2[(data_train_lvl_2['user_id'] == i)&(data_train_lvl_2['store_id'] == j)]['basket_id'].unique())\n",
    "        if max_quantity < new_m:\n",
    "            max_max_quantity = new_m\n",
    "            most_popular = j\n",
    "    user_features.loc[user_features['user_id'] == i, 'most_popular_store'] = j "
   ]
  },
  {
   "cell_type": "code",
   "execution_count": 21,
   "metadata": {
    "execution": {
     "iopub.execute_input": "2021-11-07T10:30:49.624713Z",
     "iopub.status.busy": "2021-11-07T10:30:49.623929Z",
     "iopub.status.idle": "2021-11-07T10:37:26.380047Z",
     "shell.execute_reply": "2021-11-07T10:37:26.380832Z",
     "shell.execute_reply.started": "2021-11-07T09:09:02.888471Z"
    },
    "papermill": {
     "duration": 396.820649,
     "end_time": "2021-11-07T10:37:26.381346",
     "exception": false,
     "start_time": "2021-11-07T10:30:49.560697",
     "status": "completed"
    },
    "tags": []
   },
   "outputs": [],
   "source": [
    "# генерация признаков:\n",
    "# для товаров:\n",
    "\n",
    "for i in item_features[\"commodity_desc\"].unique():\n",
    "    \n",
    "    # средняя цена в категории:\n",
    "    items_list = np.array(item_features[item_features[\"commodity_desc\"] == i][\"item_id\"])\n",
    "    item_features.loc[item_features[\"commodity_desc\"] == i, 'average_cat_value'] = data_train_lvl_2[(data_train_lvl_2['item_id'].isin(items_list))]['sales_value'].sum()/len(items_list)\n",
    "    \n",
    "for j in item_features[\"item_id\"].unique():\n",
    "    \n",
    "    # покупок в неделю:\n",
    "    weeks = np.array(data_train_lvl_2[(data_train_lvl_2['item_id'] == j)]['week_no'].unique())\n",
    "    item_features.loc[item_features['item_id'] == j, 'average_weekly_quantity'] = data_train_lvl_2[(data_train_lvl_2['item_id'] == j)]['quantity'].sum()/len(weeks)\n",
    "        \n",
    "    # соотношение цены товара к средней в категории:\n",
    "    item_features.loc[item_features['item_id'] == j, 'worth'] = data_train_lvl_2[data_train_lvl_2['item_id'] == j]['sales_value'].mean()/item_features[item_features['item_id'] == j]['average_cat_value']"
   ]
  },
  {
   "cell_type": "code",
   "execution_count": 22,
   "metadata": {
    "execution": {
     "iopub.execute_input": "2021-11-07T10:37:26.493179Z",
     "iopub.status.busy": "2021-11-07T10:37:26.491933Z",
     "iopub.status.idle": "2021-11-07T10:37:26.587316Z",
     "shell.execute_reply": "2021-11-07T10:37:26.586595Z",
     "shell.execute_reply.started": "2021-11-07T09:15:39.063307Z"
    },
    "papermill": {
     "duration": 0.15398,
     "end_time": "2021-11-07T10:37:26.587509",
     "exception": false,
     "start_time": "2021-11-07T10:37:26.433529",
     "status": "completed"
    },
    "tags": []
   },
   "outputs": [
    {
     "data": {
      "text/html": [
       "<div>\n",
       "<style scoped>\n",
       "    .dataframe tbody tr th:only-of-type {\n",
       "        vertical-align: middle;\n",
       "    }\n",
       "\n",
       "    .dataframe tbody tr th {\n",
       "        vertical-align: top;\n",
       "    }\n",
       "\n",
       "    .dataframe thead th {\n",
       "        text-align: right;\n",
       "    }\n",
       "</style>\n",
       "<table border=\"1\" class=\"dataframe\">\n",
       "  <thead>\n",
       "    <tr style=\"text-align: right;\">\n",
       "      <th></th>\n",
       "      <th>user_id</th>\n",
       "      <th>item_id</th>\n",
       "      <th>quantity</th>\n",
       "      <th>commodity_desc</th>\n",
       "      <th>average_weekly_quantity</th>\n",
       "    </tr>\n",
       "  </thead>\n",
       "  <tbody>\n",
       "    <tr>\n",
       "      <th>0</th>\n",
       "      <td>2021.0</td>\n",
       "      <td>840361.0</td>\n",
       "      <td>1.0</td>\n",
       "      <td>EGGS</td>\n",
       "      <td>78.666667</td>\n",
       "    </tr>\n",
       "    <tr>\n",
       "      <th>1</th>\n",
       "      <td>950.0</td>\n",
       "      <td>840361.0</td>\n",
       "      <td>1.0</td>\n",
       "      <td>EGGS</td>\n",
       "      <td>78.666667</td>\n",
       "    </tr>\n",
       "  </tbody>\n",
       "</table>\n",
       "</div>"
      ],
      "text/plain": [
       "   user_id   item_id  quantity commodity_desc  average_weekly_quantity\n",
       "0   2021.0  840361.0       1.0           EGGS                78.666667\n",
       "1    950.0  840361.0       1.0           EGGS                78.666667"
      ]
     },
     "execution_count": 22,
     "metadata": {},
     "output_type": "execute_result"
    }
   ],
   "source": [
    "user_items_features = data_train_lvl_2[['user_id', 'item_id', 'quantity']].copy()\n",
    "user_items_features = user_items_features.merge(item_features[['item_id', 'commodity_desc', 'average_weekly_quantity']], on=['item_id'], how='right')\n",
    "\n",
    "user_items_features.head(2)"
   ]
  },
  {
   "cell_type": "code",
   "execution_count": 23,
   "metadata": {
    "execution": {
     "iopub.execute_input": "2021-11-07T10:37:26.706546Z",
     "iopub.status.busy": "2021-11-07T10:37:26.705470Z",
     "iopub.status.idle": "2021-11-07T10:38:14.373700Z",
     "shell.execute_reply": "2021-11-07T10:38:14.372965Z",
     "shell.execute_reply.started": "2021-11-07T09:15:39.153000Z"
    },
    "papermill": {
     "duration": 47.736792,
     "end_time": "2021-11-07T10:38:14.373876",
     "exception": false,
     "start_time": "2021-11-07T10:37:26.637084",
     "status": "completed"
    },
    "tags": []
   },
   "outputs": [],
   "source": [
    "# признаки для отношений пользователь-товар слишком долго считались, поэтому решила ввести коэффициенты популярности товаров\n",
    "\n",
    "# коэффициент популярности среди покупателей для каждой категории\n",
    "for j in list(user_items_features['commodity_desc'].unique()):\n",
    "    popularity = len(user_items_features[user_items_features['commodity_desc'] == j]['user_id'].unique())\n",
    "    if popularity < 100:\n",
    "        user_items_features.loc[user_items_features['commodity_desc'] == j, 'is_popular'] = 0.8\n",
    "    elif popularity < 600:\n",
    "        user_items_features.loc[user_items_features['commodity_desc'] == j, 'is_popular'] = 0.6\n",
    "    elif popularity < 1000:\n",
    "        user_items_features.loc[user_items_features['commodity_desc'] == j, 'is_popular'] = 0.4\n",
    "    else:\n",
    "        user_items_features.loc[user_items_features['commodity_desc'] == j, 'is_popular'] = 0.2\n",
    "        \n",
    "# насколько популярен товар для пользователя, учитывая его популярность среди всех пользователей\n",
    "for i in list(user_items_features['user_id'].unique()):\n",
    "    for j in list(user_items_features['is_popular'].unique()):\n",
    "        user_items_features.loc[(user_items_features['user_id'] == i) & (user_items_features['is_popular'] == j), 'is_favorite_cat'] = user_items_features[(user_items_features['user_id'] == i) & (user_items_features['is_popular'] == j)]['quantity'].sum() * user_items_features['is_popular']"
   ]
  },
  {
   "cell_type": "code",
   "execution_count": 24,
   "metadata": {
    "execution": {
     "iopub.execute_input": "2021-11-07T10:38:14.476550Z",
     "iopub.status.busy": "2021-11-07T10:38:14.475812Z",
     "iopub.status.idle": "2021-11-07T10:38:14.478421Z",
     "shell.execute_reply": "2021-11-07T10:38:14.478945Z",
     "shell.execute_reply.started": "2021-11-07T09:16:26.879861Z"
    },
    "papermill": {
     "duration": 0.057553,
     "end_time": "2021-11-07T10:38:14.479132",
     "exception": false,
     "start_time": "2021-11-07T10:38:14.421579",
     "status": "completed"
    },
    "tags": []
   },
   "outputs": [],
   "source": [
    "user_items_features = user_items_features.drop(['quantity', 'commodity_desc', 'average_weekly_quantity'], axis=1)"
   ]
  },
  {
   "cell_type": "code",
   "execution_count": 25,
   "metadata": {
    "execution": {
     "iopub.execute_input": "2021-11-07T10:38:14.578998Z",
     "iopub.status.busy": "2021-11-07T10:38:14.578247Z",
     "iopub.status.idle": "2021-11-07T10:38:14.628913Z",
     "shell.execute_reply": "2021-11-07T10:38:14.629520Z",
     "shell.execute_reply.started": "2021-11-07T09:16:26.888682Z"
    },
    "papermill": {
     "duration": 0.103026,
     "end_time": "2021-11-07T10:38:14.629715",
     "exception": false,
     "start_time": "2021-11-07T10:38:14.526689",
     "status": "completed"
    },
    "tags": []
   },
   "outputs": [],
   "source": [
    "targets_lvl_2 = data_train_lvl_2[['user_id', 'item_id']].copy()\n",
    "targets_lvl_2['target'] = 1  # тут только покупки \n",
    "\n",
    "targets_lvl_2 = users_lvl_2.merge(targets_lvl_2, on=['user_id', 'item_id'], how='left')\n",
    "\n",
    "targets_lvl_2['target'].fillna(0, inplace= True)\n",
    "targets_lvl_2.drop('flag', axis=1, inplace=True)\n",
    "\n",
    "t_lvl2_users = targets_lvl_2['user_id']\n",
    "t_lvl2_items = targets_lvl_2['item_id']\n",
    "t_lvl2_targets = targets_lvl_2['target']"
   ]
  },
  {
   "cell_type": "code",
   "execution_count": 26,
   "metadata": {
    "execution": {
     "iopub.execute_input": "2021-11-07T10:38:14.729570Z",
     "iopub.status.busy": "2021-11-07T10:38:14.728828Z",
     "iopub.status.idle": "2021-11-07T10:38:14.733384Z",
     "shell.execute_reply": "2021-11-07T10:38:14.733859Z",
     "shell.execute_reply.started": "2021-11-07T09:16:26.946612Z"
    },
    "papermill": {
     "duration": 0.055374,
     "end_time": "2021-11-07T10:38:14.734036",
     "exception": false,
     "start_time": "2021-11-07T10:38:14.678662",
     "status": "completed"
    },
    "tags": []
   },
   "outputs": [],
   "source": [
    "targets_lvl_2 = targets_lvl_2[['target', 'user_id','item_id']]"
   ]
  },
  {
   "cell_type": "code",
   "execution_count": 27,
   "metadata": {
    "execution": {
     "iopub.execute_input": "2021-11-07T10:38:14.841575Z",
     "iopub.status.busy": "2021-11-07T10:38:14.840501Z",
     "iopub.status.idle": "2021-11-07T10:38:14.848600Z",
     "shell.execute_reply": "2021-11-07T10:38:14.849169Z",
     "shell.execute_reply.started": "2021-11-07T09:16:26.952830Z"
    },
    "papermill": {
     "duration": 0.067863,
     "end_time": "2021-11-07T10:38:14.849342",
     "exception": false,
     "start_time": "2021-11-07T10:38:14.781479",
     "status": "completed"
    },
    "tags": []
   },
   "outputs": [
    {
     "data": {
      "text/html": [
       "<div>\n",
       "<style scoped>\n",
       "    .dataframe tbody tr th:only-of-type {\n",
       "        vertical-align: middle;\n",
       "    }\n",
       "\n",
       "    .dataframe tbody tr th {\n",
       "        vertical-align: top;\n",
       "    }\n",
       "\n",
       "    .dataframe thead th {\n",
       "        text-align: right;\n",
       "    }\n",
       "</style>\n",
       "<table border=\"1\" class=\"dataframe\">\n",
       "  <thead>\n",
       "    <tr style=\"text-align: right;\">\n",
       "      <th></th>\n",
       "      <th>target</th>\n",
       "      <th>user_id</th>\n",
       "      <th>item_id</th>\n",
       "    </tr>\n",
       "  </thead>\n",
       "  <tbody>\n",
       "    <tr>\n",
       "      <th>0</th>\n",
       "      <td>0.0</td>\n",
       "      <td>2021</td>\n",
       "      <td>1082185.0</td>\n",
       "    </tr>\n",
       "    <tr>\n",
       "      <th>1</th>\n",
       "      <td>0.0</td>\n",
       "      <td>2021</td>\n",
       "      <td>6534178.0</td>\n",
       "    </tr>\n",
       "    <tr>\n",
       "      <th>2</th>\n",
       "      <td>0.0</td>\n",
       "      <td>2021</td>\n",
       "      <td>981760.0</td>\n",
       "    </tr>\n",
       "    <tr>\n",
       "      <th>3</th>\n",
       "      <td>1.0</td>\n",
       "      <td>2021</td>\n",
       "      <td>951590.0</td>\n",
       "    </tr>\n",
       "    <tr>\n",
       "      <th>4</th>\n",
       "      <td>1.0</td>\n",
       "      <td>2021</td>\n",
       "      <td>951590.0</td>\n",
       "    </tr>\n",
       "    <tr>\n",
       "      <th>...</th>\n",
       "      <td>...</td>\n",
       "      <td>...</td>\n",
       "      <td>...</td>\n",
       "    </tr>\n",
       "    <tr>\n",
       "      <th>13805</th>\n",
       "      <td>0.0</td>\n",
       "      <td>1697</td>\n",
       "      <td>1082185.0</td>\n",
       "    </tr>\n",
       "    <tr>\n",
       "      <th>13806</th>\n",
       "      <td>0.0</td>\n",
       "      <td>1697</td>\n",
       "      <td>6534178.0</td>\n",
       "    </tr>\n",
       "    <tr>\n",
       "      <th>13807</th>\n",
       "      <td>0.0</td>\n",
       "      <td>1697</td>\n",
       "      <td>1029743.0</td>\n",
       "    </tr>\n",
       "    <tr>\n",
       "      <th>13808</th>\n",
       "      <td>0.0</td>\n",
       "      <td>1697</td>\n",
       "      <td>995242.0</td>\n",
       "    </tr>\n",
       "    <tr>\n",
       "      <th>13809</th>\n",
       "      <td>0.0</td>\n",
       "      <td>1697</td>\n",
       "      <td>904360.0</td>\n",
       "    </tr>\n",
       "  </tbody>\n",
       "</table>\n",
       "<p>13810 rows × 3 columns</p>\n",
       "</div>"
      ],
      "text/plain": [
       "       target  user_id    item_id\n",
       "0         0.0     2021  1082185.0\n",
       "1         0.0     2021  6534178.0\n",
       "2         0.0     2021   981760.0\n",
       "3         1.0     2021   951590.0\n",
       "4         1.0     2021   951590.0\n",
       "...       ...      ...        ...\n",
       "13805     0.0     1697  1082185.0\n",
       "13806     0.0     1697  6534178.0\n",
       "13807     0.0     1697  1029743.0\n",
       "13808     0.0     1697   995242.0\n",
       "13809     0.0     1697   904360.0\n",
       "\n",
       "[13810 rows x 3 columns]"
      ]
     },
     "execution_count": 27,
     "metadata": {},
     "output_type": "execute_result"
    }
   ],
   "source": [
    "targets_lvl_2"
   ]
  },
  {
   "cell_type": "code",
   "execution_count": 28,
   "metadata": {
    "execution": {
     "iopub.execute_input": "2021-11-07T10:38:14.954138Z",
     "iopub.status.busy": "2021-11-07T10:38:14.951280Z",
     "iopub.status.idle": "2021-11-07T10:38:14.998002Z",
     "shell.execute_reply": "2021-11-07T10:38:14.997291Z",
     "shell.execute_reply.started": "2021-11-07T09:16:26.974938Z"
    },
    "papermill": {
     "duration": 0.099053,
     "end_time": "2021-11-07T10:38:14.998152",
     "exception": false,
     "start_time": "2021-11-07T10:38:14.899099",
     "status": "completed"
    },
    "tags": []
   },
   "outputs": [],
   "source": [
    "targets_lvl_2 = targets_lvl_2.merge(item_features, on=['item_id'], how='left')"
   ]
  },
  {
   "cell_type": "code",
   "execution_count": 29,
   "metadata": {
    "execution": {
     "iopub.execute_input": "2021-11-07T10:38:15.099710Z",
     "iopub.status.busy": "2021-11-07T10:38:15.099017Z",
     "iopub.status.idle": "2021-11-07T10:38:15.111125Z",
     "shell.execute_reply": "2021-11-07T10:38:15.111732Z",
     "shell.execute_reply.started": "2021-11-07T09:16:27.021480Z"
    },
    "papermill": {
     "duration": 0.06595,
     "end_time": "2021-11-07T10:38:15.111904",
     "exception": false,
     "start_time": "2021-11-07T10:38:15.045954",
     "status": "completed"
    },
    "tags": []
   },
   "outputs": [
    {
     "data": {
      "text/html": [
       "<div>\n",
       "<style scoped>\n",
       "    .dataframe tbody tr th:only-of-type {\n",
       "        vertical-align: middle;\n",
       "    }\n",
       "\n",
       "    .dataframe tbody tr th {\n",
       "        vertical-align: top;\n",
       "    }\n",
       "\n",
       "    .dataframe thead th {\n",
       "        text-align: right;\n",
       "    }\n",
       "</style>\n",
       "<table border=\"1\" class=\"dataframe\">\n",
       "  <thead>\n",
       "    <tr style=\"text-align: right;\">\n",
       "      <th></th>\n",
       "      <th>target</th>\n",
       "      <th>user_id</th>\n",
       "      <th>item_id</th>\n",
       "      <th>manufacturer</th>\n",
       "      <th>department</th>\n",
       "      <th>brand</th>\n",
       "      <th>commodity_desc</th>\n",
       "      <th>sub_commodity_desc</th>\n",
       "      <th>curr_size_of_product</th>\n",
       "      <th>average_cat_value</th>\n",
       "      <th>average_weekly_quantity</th>\n",
       "      <th>worth</th>\n",
       "    </tr>\n",
       "  </thead>\n",
       "  <tbody>\n",
       "    <tr>\n",
       "      <th>0</th>\n",
       "      <td>0.0</td>\n",
       "      <td>2021</td>\n",
       "      <td>1082185.0</td>\n",
       "      <td>2</td>\n",
       "      <td>PRODUCE</td>\n",
       "      <td>National</td>\n",
       "      <td>TROPICAL FRUIT</td>\n",
       "      <td>BANANAS</td>\n",
       "      <td>40 LB</td>\n",
       "      <td>30.856627</td>\n",
       "      <td>313.166667</td>\n",
       "      <td>0.03467</td>\n",
       "    </tr>\n",
       "    <tr>\n",
       "      <th>1</th>\n",
       "      <td>0.0</td>\n",
       "      <td>2021</td>\n",
       "      <td>6534178.0</td>\n",
       "      <td>69</td>\n",
       "      <td>KIOSK-GAS</td>\n",
       "      <td>Private</td>\n",
       "      <td>COUPON/MISC ITEMS</td>\n",
       "      <td>GASOLINE-REG UNLEADED</td>\n",
       "      <td></td>\n",
       "      <td>16.178906</td>\n",
       "      <td>NaN</td>\n",
       "      <td>NaN</td>\n",
       "    </tr>\n",
       "  </tbody>\n",
       "</table>\n",
       "</div>"
      ],
      "text/plain": [
       "   target  user_id    item_id  manufacturer department     brand  \\\n",
       "0     0.0     2021  1082185.0             2    PRODUCE  National   \n",
       "1     0.0     2021  6534178.0            69  KIOSK-GAS   Private   \n",
       "\n",
       "      commodity_desc     sub_commodity_desc curr_size_of_product  \\\n",
       "0     TROPICAL FRUIT                BANANAS                40 LB   \n",
       "1  COUPON/MISC ITEMS  GASOLINE-REG UNLEADED                        \n",
       "\n",
       "   average_cat_value  average_weekly_quantity    worth  \n",
       "0          30.856627               313.166667  0.03467  \n",
       "1          16.178906                      NaN      NaN  "
      ]
     },
     "execution_count": 29,
     "metadata": {},
     "output_type": "execute_result"
    }
   ],
   "source": [
    "targets_lvl_2.head(2)"
   ]
  },
  {
   "cell_type": "code",
   "execution_count": 30,
   "metadata": {
    "execution": {
     "iopub.execute_input": "2021-11-07T10:38:15.214498Z",
     "iopub.status.busy": "2021-11-07T10:38:15.212908Z",
     "iopub.status.idle": "2021-11-07T10:38:15.221242Z",
     "shell.execute_reply": "2021-11-07T10:38:15.221768Z",
     "shell.execute_reply.started": "2021-11-07T09:16:27.041544Z"
    },
    "papermill": {
     "duration": 0.061905,
     "end_time": "2021-11-07T10:38:15.221940",
     "exception": false,
     "start_time": "2021-11-07T10:38:15.160035",
     "status": "completed"
    },
    "tags": []
   },
   "outputs": [],
   "source": [
    "targets_lvl_2 = targets_lvl_2.merge(user_features, on=['user_id'], how='left')"
   ]
  },
  {
   "cell_type": "code",
   "execution_count": 31,
   "metadata": {
    "execution": {
     "iopub.execute_input": "2021-11-07T10:38:15.322178Z",
     "iopub.status.busy": "2021-11-07T10:38:15.321161Z",
     "iopub.status.idle": "2021-11-07T10:38:15.432521Z",
     "shell.execute_reply": "2021-11-07T10:38:15.433140Z",
     "shell.execute_reply.started": "2021-11-07T09:16:27.054035Z"
    },
    "papermill": {
     "duration": 0.163165,
     "end_time": "2021-11-07T10:38:15.433325",
     "exception": false,
     "start_time": "2021-11-07T10:38:15.270160",
     "status": "completed"
    },
    "tags": []
   },
   "outputs": [],
   "source": [
    "targets_lvl_2 = targets_lvl_2.merge(user_items_features, on=['user_id', 'item_id'], how='left')"
   ]
  },
  {
   "cell_type": "markdown",
   "metadata": {},
   "source": [
    "### Обучение модели второго уровня:"
   ]
  },
  {
   "cell_type": "code",
   "execution_count": 32,
   "metadata": {
    "execution": {
     "iopub.execute_input": "2021-11-07T10:38:15.536559Z",
     "iopub.status.busy": "2021-11-07T10:38:15.535787Z",
     "iopub.status.idle": "2021-11-07T10:38:15.546787Z",
     "shell.execute_reply": "2021-11-07T10:38:15.546144Z",
     "shell.execute_reply.started": "2021-11-07T09:16:27.165785Z"
    },
    "papermill": {
     "duration": 0.064768,
     "end_time": "2021-11-07T10:38:15.546937",
     "exception": false,
     "start_time": "2021-11-07T10:38:15.482169",
     "status": "completed"
    },
    "tags": []
   },
   "outputs": [],
   "source": [
    "X_train = targets_lvl_2.drop('target', axis=1)\n",
    "y_train = targets_lvl_2[['target']]"
   ]
  },
  {
   "cell_type": "code",
   "execution_count": 33,
   "metadata": {
    "execution": {
     "iopub.execute_input": "2021-11-07T10:38:15.647973Z",
     "iopub.status.busy": "2021-11-07T10:38:15.647371Z",
     "iopub.status.idle": "2021-11-07T10:38:15.668883Z",
     "shell.execute_reply": "2021-11-07T10:38:15.669525Z",
     "shell.execute_reply.started": "2021-11-07T09:16:27.179999Z"
    },
    "papermill": {
     "duration": 0.073032,
     "end_time": "2021-11-07T10:38:15.669703",
     "exception": false,
     "start_time": "2021-11-07T10:38:15.596671",
     "status": "completed"
    },
    "tags": []
   },
   "outputs": [
    {
     "data": {
      "text/html": [
       "<div>\n",
       "<style scoped>\n",
       "    .dataframe tbody tr th:only-of-type {\n",
       "        vertical-align: middle;\n",
       "    }\n",
       "\n",
       "    .dataframe tbody tr th {\n",
       "        vertical-align: top;\n",
       "    }\n",
       "\n",
       "    .dataframe thead th {\n",
       "        text-align: right;\n",
       "    }\n",
       "</style>\n",
       "<table border=\"1\" class=\"dataframe\">\n",
       "  <thead>\n",
       "    <tr style=\"text-align: right;\">\n",
       "      <th></th>\n",
       "      <th>user_id</th>\n",
       "      <th>item_id</th>\n",
       "      <th>manufacturer</th>\n",
       "      <th>department</th>\n",
       "      <th>brand</th>\n",
       "      <th>commodity_desc</th>\n",
       "      <th>sub_commodity_desc</th>\n",
       "      <th>curr_size_of_product</th>\n",
       "      <th>average_cat_value</th>\n",
       "      <th>average_weekly_quantity</th>\n",
       "      <th>...</th>\n",
       "      <th>income_desc</th>\n",
       "      <th>homeowner_desc</th>\n",
       "      <th>hh_comp_desc</th>\n",
       "      <th>household_size_desc</th>\n",
       "      <th>kid_category_desc</th>\n",
       "      <th>total_sum</th>\n",
       "      <th>average_receipt</th>\n",
       "      <th>most_popular_store</th>\n",
       "      <th>is_popular</th>\n",
       "      <th>is_favorite_cat</th>\n",
       "    </tr>\n",
       "  </thead>\n",
       "  <tbody>\n",
       "    <tr>\n",
       "      <th>0</th>\n",
       "      <td>2021</td>\n",
       "      <td>1082185.0</td>\n",
       "      <td>2</td>\n",
       "      <td>PRODUCE</td>\n",
       "      <td>National</td>\n",
       "      <td>TROPICAL FRUIT</td>\n",
       "      <td>BANANAS</td>\n",
       "      <td>40 LB</td>\n",
       "      <td>30.856627</td>\n",
       "      <td>313.166667</td>\n",
       "      <td>...</td>\n",
       "      <td>NaN</td>\n",
       "      <td>NaN</td>\n",
       "      <td>NaN</td>\n",
       "      <td>NaN</td>\n",
       "      <td>NaN</td>\n",
       "      <td>NaN</td>\n",
       "      <td>NaN</td>\n",
       "      <td>NaN</td>\n",
       "      <td>NaN</td>\n",
       "      <td>NaN</td>\n",
       "    </tr>\n",
       "    <tr>\n",
       "      <th>1</th>\n",
       "      <td>2021</td>\n",
       "      <td>6534178.0</td>\n",
       "      <td>69</td>\n",
       "      <td>KIOSK-GAS</td>\n",
       "      <td>Private</td>\n",
       "      <td>COUPON/MISC ITEMS</td>\n",
       "      <td>GASOLINE-REG UNLEADED</td>\n",
       "      <td></td>\n",
       "      <td>16.178906</td>\n",
       "      <td>NaN</td>\n",
       "      <td>...</td>\n",
       "      <td>NaN</td>\n",
       "      <td>NaN</td>\n",
       "      <td>NaN</td>\n",
       "      <td>NaN</td>\n",
       "      <td>NaN</td>\n",
       "      <td>NaN</td>\n",
       "      <td>NaN</td>\n",
       "      <td>NaN</td>\n",
       "      <td>NaN</td>\n",
       "      <td>NaN</td>\n",
       "    </tr>\n",
       "  </tbody>\n",
       "</table>\n",
       "<p>2 rows × 23 columns</p>\n",
       "</div>"
      ],
      "text/plain": [
       "   user_id    item_id  manufacturer department     brand     commodity_desc  \\\n",
       "0     2021  1082185.0             2    PRODUCE  National     TROPICAL FRUIT   \n",
       "1     2021  6534178.0            69  KIOSK-GAS   Private  COUPON/MISC ITEMS   \n",
       "\n",
       "      sub_commodity_desc curr_size_of_product  average_cat_value  \\\n",
       "0                BANANAS                40 LB          30.856627   \n",
       "1  GASOLINE-REG UNLEADED                               16.178906   \n",
       "\n",
       "   average_weekly_quantity  ...  income_desc homeowner_desc hh_comp_desc  \\\n",
       "0               313.166667  ...          NaN            NaN          NaN   \n",
       "1                      NaN  ...          NaN            NaN          NaN   \n",
       "\n",
       "  household_size_desc kid_category_desc total_sum average_receipt  \\\n",
       "0                 NaN               NaN       NaN             NaN   \n",
       "1                 NaN               NaN       NaN             NaN   \n",
       "\n",
       "  most_popular_store  is_popular  is_favorite_cat  \n",
       "0                NaN         NaN              NaN  \n",
       "1                NaN         NaN              NaN  \n",
       "\n",
       "[2 rows x 23 columns]"
      ]
     },
     "execution_count": 33,
     "metadata": {},
     "output_type": "execute_result"
    }
   ],
   "source": [
    "X_train.head(2)"
   ]
  },
  {
   "cell_type": "code",
   "execution_count": 34,
   "metadata": {
    "execution": {
     "iopub.execute_input": "2021-11-07T10:38:15.776012Z",
     "iopub.status.busy": "2021-11-07T10:38:15.770265Z",
     "iopub.status.idle": "2021-11-07T10:38:16.861760Z",
     "shell.execute_reply": "2021-11-07T10:38:16.862313Z",
     "shell.execute_reply.started": "2021-11-07T09:16:27.206157Z"
    },
    "papermill": {
     "duration": 1.143671,
     "end_time": "2021-11-07T10:38:16.862521",
     "exception": false,
     "start_time": "2021-11-07T10:38:15.718850",
     "status": "completed"
    },
    "tags": []
   },
   "outputs": [],
   "source": [
    "# категоризация признаков (для работы модели)\n",
    "\n",
    "digital_features = ['manufacturer', 'average_cat_value', 'average_weekly_quantity', 'worth', 'total_sum', 'average_receipt', 'most_popular_store', 'is_popular','is_favorite_cat']\n",
    "for i in digital_features:\n",
    "    a = X_train[i].min()\n",
    "    b = X_train[i].mean()\n",
    "    c = X_train[i].max()\n",
    "    # print(a, (b-a)/2, b, (c-b)/2, c)\n",
    "    X_train[i] = pd.cut(X_train[i], bins=[a, a+(b-a)/2, b, b+(c-b)/2, c], labels=False)\n",
    "    \n",
    "not_digital_features = ['department', 'brand', 'commodity_desc', 'sub_commodity_desc', 'curr_size_of_product', 'average_weekly_quantity', 'age_desc',\n",
    "                        'marital_status_code', 'income_desc', 'homeowner_desc', 'hh_comp_desc', 'household_size_desc', 'kid_category_desc']\n",
    "\n",
    "for i in not_digital_features:\n",
    "    cat_numbers = list(c for c in range(len(list(X_train[i].unique()))))\n",
    "    for j,n in zip(list(X_train[i].unique()), cat_numbers):\n",
    "        X_train.loc[X_train[i] == j, i] = n\n",
    "        \n",
    "X_train.fillna(99999, inplace= True)"
   ]
  },
  {
   "cell_type": "code",
   "execution_count": 35,
   "metadata": {
    "execution": {
     "iopub.execute_input": "2021-11-07T10:38:16.964719Z",
     "iopub.status.busy": "2021-11-07T10:38:16.964033Z",
     "iopub.status.idle": "2021-11-07T10:38:16.986235Z",
     "shell.execute_reply": "2021-11-07T10:38:16.985668Z",
     "shell.execute_reply.started": "2021-11-07T09:16:28.267168Z"
    },
    "papermill": {
     "duration": 0.07418,
     "end_time": "2021-11-07T10:38:16.986408",
     "exception": false,
     "start_time": "2021-11-07T10:38:16.912228",
     "status": "completed"
    },
    "tags": []
   },
   "outputs": [
    {
     "data": {
      "text/html": [
       "<div>\n",
       "<style scoped>\n",
       "    .dataframe tbody tr th:only-of-type {\n",
       "        vertical-align: middle;\n",
       "    }\n",
       "\n",
       "    .dataframe tbody tr th {\n",
       "        vertical-align: top;\n",
       "    }\n",
       "\n",
       "    .dataframe thead th {\n",
       "        text-align: right;\n",
       "    }\n",
       "</style>\n",
       "<table border=\"1\" class=\"dataframe\">\n",
       "  <thead>\n",
       "    <tr style=\"text-align: right;\">\n",
       "      <th></th>\n",
       "      <th>user_id</th>\n",
       "      <th>item_id</th>\n",
       "      <th>manufacturer</th>\n",
       "      <th>department</th>\n",
       "      <th>brand</th>\n",
       "      <th>commodity_desc</th>\n",
       "      <th>sub_commodity_desc</th>\n",
       "      <th>curr_size_of_product</th>\n",
       "      <th>average_cat_value</th>\n",
       "      <th>average_weekly_quantity</th>\n",
       "      <th>...</th>\n",
       "      <th>income_desc</th>\n",
       "      <th>homeowner_desc</th>\n",
       "      <th>hh_comp_desc</th>\n",
       "      <th>household_size_desc</th>\n",
       "      <th>kid_category_desc</th>\n",
       "      <th>total_sum</th>\n",
       "      <th>average_receipt</th>\n",
       "      <th>most_popular_store</th>\n",
       "      <th>is_popular</th>\n",
       "      <th>is_favorite_cat</th>\n",
       "    </tr>\n",
       "  </thead>\n",
       "  <tbody>\n",
       "    <tr>\n",
       "      <th>0</th>\n",
       "      <td>2021</td>\n",
       "      <td>1082185.0</td>\n",
       "      <td>99999.0</td>\n",
       "      <td>0</td>\n",
       "      <td>0</td>\n",
       "      <td>0</td>\n",
       "      <td>0</td>\n",
       "      <td>0</td>\n",
       "      <td>2.0</td>\n",
       "      <td>3.0</td>\n",
       "      <td>...</td>\n",
       "      <td>99999</td>\n",
       "      <td>99999</td>\n",
       "      <td>99999</td>\n",
       "      <td>99999</td>\n",
       "      <td>99999</td>\n",
       "      <td>99999.0</td>\n",
       "      <td>99999.0</td>\n",
       "      <td>99999.0</td>\n",
       "      <td>99999.0</td>\n",
       "      <td>99999.0</td>\n",
       "    </tr>\n",
       "    <tr>\n",
       "      <th>1</th>\n",
       "      <td>2021</td>\n",
       "      <td>6534178.0</td>\n",
       "      <td>0.0</td>\n",
       "      <td>1</td>\n",
       "      <td>1</td>\n",
       "      <td>1</td>\n",
       "      <td>1</td>\n",
       "      <td>1</td>\n",
       "      <td>1.0</td>\n",
       "      <td>99999.0</td>\n",
       "      <td>...</td>\n",
       "      <td>99999</td>\n",
       "      <td>99999</td>\n",
       "      <td>99999</td>\n",
       "      <td>99999</td>\n",
       "      <td>99999</td>\n",
       "      <td>99999.0</td>\n",
       "      <td>99999.0</td>\n",
       "      <td>99999.0</td>\n",
       "      <td>99999.0</td>\n",
       "      <td>99999.0</td>\n",
       "    </tr>\n",
       "  </tbody>\n",
       "</table>\n",
       "<p>2 rows × 23 columns</p>\n",
       "</div>"
      ],
      "text/plain": [
       "   user_id    item_id  manufacturer  department  brand  commodity_desc  \\\n",
       "0     2021  1082185.0       99999.0           0      0               0   \n",
       "1     2021  6534178.0           0.0           1      1               1   \n",
       "\n",
       "   sub_commodity_desc  curr_size_of_product  average_cat_value  \\\n",
       "0                   0                     0                2.0   \n",
       "1                   1                     1                1.0   \n",
       "\n",
       "   average_weekly_quantity  ...  income_desc  homeowner_desc  hh_comp_desc  \\\n",
       "0                      3.0  ...        99999           99999         99999   \n",
       "1                  99999.0  ...        99999           99999         99999   \n",
       "\n",
       "   household_size_desc  kid_category_desc  total_sum  average_receipt  \\\n",
       "0                99999              99999    99999.0          99999.0   \n",
       "1                99999              99999    99999.0          99999.0   \n",
       "\n",
       "   most_popular_store  is_popular  is_favorite_cat  \n",
       "0             99999.0     99999.0          99999.0  \n",
       "1             99999.0     99999.0          99999.0  \n",
       "\n",
       "[2 rows x 23 columns]"
      ]
     },
     "execution_count": 35,
     "metadata": {},
     "output_type": "execute_result"
    }
   ],
   "source": [
    "X_train.head(2)"
   ]
  },
  {
   "cell_type": "code",
   "execution_count": 36,
   "metadata": {
    "execution": {
     "iopub.execute_input": "2021-11-07T10:38:17.090692Z",
     "iopub.status.busy": "2021-11-07T10:38:17.090025Z",
     "iopub.status.idle": "2021-11-07T10:38:19.647773Z",
     "shell.execute_reply": "2021-11-07T10:38:19.648717Z",
     "shell.execute_reply.started": "2021-11-07T09:16:28.293897Z"
    },
    "papermill": {
     "duration": 2.611193,
     "end_time": "2021-11-07T10:38:19.649048",
     "exception": false,
     "start_time": "2021-11-07T10:38:17.037855",
     "status": "completed"
    },
    "tags": []
   },
   "outputs": [],
   "source": [
    "# модель - MLPClassifier из sklearn.neural_network\n",
    "\n",
    "mlp = MLPClassifier(random_state=1, solver='sgd', learning_rate_init=0.000001, max_iter=500).fit(X_train, y_train)\n",
    "train_preds = mlp.predict(X_train)"
   ]
  },
  {
   "cell_type": "code",
   "execution_count": 37,
   "metadata": {
    "execution": {
     "iopub.execute_input": "2021-11-07T10:38:19.808825Z",
     "iopub.status.busy": "2021-11-07T10:38:19.807738Z",
     "iopub.status.idle": "2021-11-07T10:38:37.950916Z",
     "shell.execute_reply": "2021-11-07T10:38:37.951542Z",
     "shell.execute_reply.started": "2021-11-07T09:16:31.733555Z"
    },
    "papermill": {
     "duration": 18.209718,
     "end_time": "2021-11-07T10:38:37.951735",
     "exception": false,
     "start_time": "2021-11-07T10:38:19.742017",
     "status": "completed"
    },
    "tags": []
   },
   "outputs": [],
   "source": [
    "user_val_lvl_2 = pd.DataFrame(data_val_lvl_2['user_id'].unique())\n",
    "user_val_lvl_2.columns = ['user_id']\n",
    "\n",
    "train_users = data_train_lvl_1['user_id'].unique()\n",
    "user_val_lvl_2 = user_val_lvl_2[user_val_lvl_2['user_id'].isin(train_users)]\n",
    "\n",
    "user_val_lvl_2['candidates'] = user_val_lvl_2['user_id'].apply(lambda x: recommender.get_own_recommendations(x, N=5))"
   ]
  },
  {
   "cell_type": "code",
   "execution_count": 38,
   "metadata": {
    "execution": {
     "iopub.execute_input": "2021-11-07T10:38:38.084741Z",
     "iopub.status.busy": "2021-11-07T10:38:38.079168Z",
     "iopub.status.idle": "2021-11-07T10:38:38.459278Z",
     "shell.execute_reply": "2021-11-07T10:38:38.460054Z",
     "shell.execute_reply.started": "2021-11-07T09:16:48.995146Z"
    },
    "papermill": {
     "duration": 0.454464,
     "end_time": "2021-11-07T10:38:38.460277",
     "exception": false,
     "start_time": "2021-11-07T10:38:38.005813",
     "status": "completed"
    },
    "tags": []
   },
   "outputs": [
    {
     "data": {
      "text/html": [
       "<div>\n",
       "<style scoped>\n",
       "    .dataframe tbody tr th:only-of-type {\n",
       "        vertical-align: middle;\n",
       "    }\n",
       "\n",
       "    .dataframe tbody tr th {\n",
       "        vertical-align: top;\n",
       "    }\n",
       "\n",
       "    .dataframe thead th {\n",
       "        text-align: right;\n",
       "    }\n",
       "</style>\n",
       "<table border=\"1\" class=\"dataframe\">\n",
       "  <thead>\n",
       "    <tr style=\"text-align: right;\">\n",
       "      <th></th>\n",
       "      <th>user_id</th>\n",
       "      <th>item_id</th>\n",
       "    </tr>\n",
       "  </thead>\n",
       "  <tbody>\n",
       "    <tr>\n",
       "      <th>0</th>\n",
       "      <td>338</td>\n",
       "      <td>1082185.0</td>\n",
       "    </tr>\n",
       "    <tr>\n",
       "      <th>0</th>\n",
       "      <td>338</td>\n",
       "      <td>6534178.0</td>\n",
       "    </tr>\n",
       "    <tr>\n",
       "      <th>0</th>\n",
       "      <td>338</td>\n",
       "      <td>1029743.0</td>\n",
       "    </tr>\n",
       "    <tr>\n",
       "      <th>0</th>\n",
       "      <td>338</td>\n",
       "      <td>995242.0</td>\n",
       "    </tr>\n",
       "  </tbody>\n",
       "</table>\n",
       "</div>"
      ],
      "text/plain": [
       "   user_id    item_id\n",
       "0      338  1082185.0\n",
       "0      338  6534178.0\n",
       "0      338  1029743.0\n",
       "0      338   995242.0"
      ]
     },
     "execution_count": 38,
     "metadata": {},
     "output_type": "execute_result"
    }
   ],
   "source": [
    "s = user_val_lvl_2.apply(lambda x: pd.Series(x['candidates']), axis=1).stack().reset_index(level=1, drop=True)\n",
    "s.name = 'item_id'\n",
    "\n",
    "user_val_lvl_2 = user_val_lvl_2.drop('candidates', axis=1).join(s)\n",
    "\n",
    "user_val_lvl_2.head(4)"
   ]
  },
  {
   "cell_type": "markdown",
   "metadata": {},
   "source": [
    "### Обучение модели на валидационной выборке:"
   ]
  },
  {
   "cell_type": "code",
   "execution_count": 39,
   "metadata": {
    "execution": {
     "iopub.execute_input": "2021-11-07T10:38:38.580126Z",
     "iopub.status.busy": "2021-11-07T10:38:38.579302Z",
     "iopub.status.idle": "2021-11-07T10:38:38.775350Z",
     "shell.execute_reply": "2021-11-07T10:38:38.774772Z",
     "shell.execute_reply.started": "2021-11-07T09:16:49.370301Z"
    },
    "papermill": {
     "duration": 0.257394,
     "end_time": "2021-11-07T10:38:38.775553",
     "exception": false,
     "start_time": "2021-11-07T10:38:38.518159",
     "status": "completed"
    },
    "tags": []
   },
   "outputs": [
    {
     "data": {
      "text/html": [
       "<div>\n",
       "<style scoped>\n",
       "    .dataframe tbody tr th:only-of-type {\n",
       "        vertical-align: middle;\n",
       "    }\n",
       "\n",
       "    .dataframe tbody tr th {\n",
       "        vertical-align: top;\n",
       "    }\n",
       "\n",
       "    .dataframe thead th {\n",
       "        text-align: right;\n",
       "    }\n",
       "</style>\n",
       "<table border=\"1\" class=\"dataframe\">\n",
       "  <thead>\n",
       "    <tr style=\"text-align: right;\">\n",
       "      <th></th>\n",
       "      <th>user_id</th>\n",
       "      <th>item_id</th>\n",
       "      <th>manufacturer</th>\n",
       "      <th>department</th>\n",
       "      <th>brand</th>\n",
       "      <th>commodity_desc</th>\n",
       "      <th>sub_commodity_desc</th>\n",
       "      <th>curr_size_of_product</th>\n",
       "      <th>average_cat_value</th>\n",
       "      <th>average_weekly_quantity</th>\n",
       "      <th>...</th>\n",
       "      <th>income_desc</th>\n",
       "      <th>homeowner_desc</th>\n",
       "      <th>hh_comp_desc</th>\n",
       "      <th>household_size_desc</th>\n",
       "      <th>kid_category_desc</th>\n",
       "      <th>total_sum</th>\n",
       "      <th>average_receipt</th>\n",
       "      <th>most_popular_store</th>\n",
       "      <th>is_popular</th>\n",
       "      <th>is_favorite_cat</th>\n",
       "    </tr>\n",
       "  </thead>\n",
       "  <tbody>\n",
       "    <tr>\n",
       "      <th>0</th>\n",
       "      <td>338</td>\n",
       "      <td>1082185.0</td>\n",
       "      <td>2</td>\n",
       "      <td>PRODUCE</td>\n",
       "      <td>National</td>\n",
       "      <td>TROPICAL FRUIT</td>\n",
       "      <td>BANANAS</td>\n",
       "      <td>40 LB</td>\n",
       "      <td>30.856627</td>\n",
       "      <td>313.166667</td>\n",
       "      <td>...</td>\n",
       "      <td>NaN</td>\n",
       "      <td>NaN</td>\n",
       "      <td>NaN</td>\n",
       "      <td>NaN</td>\n",
       "      <td>NaN</td>\n",
       "      <td>NaN</td>\n",
       "      <td>NaN</td>\n",
       "      <td>NaN</td>\n",
       "      <td>NaN</td>\n",
       "      <td>NaN</td>\n",
       "    </tr>\n",
       "    <tr>\n",
       "      <th>1</th>\n",
       "      <td>338</td>\n",
       "      <td>6534178.0</td>\n",
       "      <td>69</td>\n",
       "      <td>KIOSK-GAS</td>\n",
       "      <td>Private</td>\n",
       "      <td>COUPON/MISC ITEMS</td>\n",
       "      <td>GASOLINE-REG UNLEADED</td>\n",
       "      <td></td>\n",
       "      <td>16.178906</td>\n",
       "      <td>NaN</td>\n",
       "      <td>...</td>\n",
       "      <td>NaN</td>\n",
       "      <td>NaN</td>\n",
       "      <td>NaN</td>\n",
       "      <td>NaN</td>\n",
       "      <td>NaN</td>\n",
       "      <td>NaN</td>\n",
       "      <td>NaN</td>\n",
       "      <td>NaN</td>\n",
       "      <td>NaN</td>\n",
       "      <td>NaN</td>\n",
       "    </tr>\n",
       "  </tbody>\n",
       "</table>\n",
       "<p>2 rows × 23 columns</p>\n",
       "</div>"
      ],
      "text/plain": [
       "   user_id    item_id  manufacturer department     brand     commodity_desc  \\\n",
       "0      338  1082185.0             2    PRODUCE  National     TROPICAL FRUIT   \n",
       "1      338  6534178.0            69  KIOSK-GAS   Private  COUPON/MISC ITEMS   \n",
       "\n",
       "      sub_commodity_desc curr_size_of_product  average_cat_value  \\\n",
       "0                BANANAS                40 LB          30.856627   \n",
       "1  GASOLINE-REG UNLEADED                               16.178906   \n",
       "\n",
       "   average_weekly_quantity  ...  income_desc homeowner_desc hh_comp_desc  \\\n",
       "0               313.166667  ...          NaN            NaN          NaN   \n",
       "1                      NaN  ...          NaN            NaN          NaN   \n",
       "\n",
       "  household_size_desc kid_category_desc total_sum average_receipt  \\\n",
       "0                 NaN               NaN       NaN             NaN   \n",
       "1                 NaN               NaN       NaN             NaN   \n",
       "\n",
       "  most_popular_store  is_popular  is_favorite_cat  \n",
       "0                NaN         NaN              NaN  \n",
       "1                NaN         NaN              NaN  \n",
       "\n",
       "[2 rows x 23 columns]"
      ]
     },
     "execution_count": 39,
     "metadata": {},
     "output_type": "execute_result"
    }
   ],
   "source": [
    "preds_2 = user_val_lvl_2.merge(item_features, on='item_id', how='left')\n",
    "preds_2 = preds_2.merge(user_features, on='user_id', how='left')\n",
    "preds_2 = preds_2.merge(user_items_features, on=['user_id', 'item_id'], how='left')\n",
    "\n",
    "preds_2.head(2)"
   ]
  },
  {
   "cell_type": "code",
   "execution_count": 40,
   "metadata": {
    "execution": {
     "iopub.execute_input": "2021-11-07T10:38:38.892085Z",
     "iopub.status.busy": "2021-11-07T10:38:38.890924Z",
     "iopub.status.idle": "2021-11-07T10:38:39.474470Z",
     "shell.execute_reply": "2021-11-07T10:38:39.473593Z",
     "shell.execute_reply.started": "2021-11-07T09:16:49.540535Z"
    },
    "papermill": {
     "duration": 0.646578,
     "end_time": "2021-11-07T10:38:39.474628",
     "exception": false,
     "start_time": "2021-11-07T10:38:38.828050",
     "status": "completed"
    },
    "tags": []
   },
   "outputs": [],
   "source": [
    "# категоризация валидационной выборки:\n",
    "\n",
    "digital_features = ['manufacturer', 'average_cat_value', 'average_weekly_quantity', 'worth', 'total_sum', 'average_receipt', 'most_popular_store', 'is_popular','is_favorite_cat']\n",
    "\n",
    "for i in digital_features:\n",
    "    a = preds_2[i].min()\n",
    "    b = preds_2[i].mean()\n",
    "    c = preds_2[i].max()\n",
    "    # print(a, (b-a)/2, b, (c-b)/2, c)\n",
    "    preds_2[i] = pd.cut(X_train[i], bins=[a, a+(b-a)/2, b, b+(c-b)/2, c], labels=False)\n",
    "    \n",
    "not_digital_features = ['department', 'brand', 'commodity_desc', 'sub_commodity_desc', 'curr_size_of_product', 'average_weekly_quantity', 'age_desc',\n",
    "                        'marital_status_code', 'income_desc', 'homeowner_desc', 'hh_comp_desc', 'household_size_desc', 'kid_category_desc']\n",
    "\n",
    "for i in not_digital_features:\n",
    "    cat_numbers = list(c for c in range(len(list(preds_2[i].unique()))))\n",
    "    for j,n in zip(list(preds_2[i].unique()), cat_numbers):\n",
    "        preds_2.loc[preds_2[i] == j, i] = n\n",
    "        \n",
    "preds_2.fillna(99999, inplace= True)"
   ]
  },
  {
   "cell_type": "code",
   "execution_count": 41,
   "metadata": {
    "execution": {
     "iopub.execute_input": "2021-11-07T10:38:39.590388Z",
     "iopub.status.busy": "2021-11-07T10:38:39.589631Z",
     "iopub.status.idle": "2021-11-07T10:38:39.592651Z",
     "shell.execute_reply": "2021-11-07T10:38:39.591981Z",
     "shell.execute_reply.started": "2021-11-07T09:36:59.047506Z"
    },
    "papermill": {
     "duration": 0.062511,
     "end_time": "2021-11-07T10:38:39.592807",
     "exception": false,
     "start_time": "2021-11-07T10:38:39.530296",
     "status": "completed"
    },
    "tags": []
   },
   "outputs": [],
   "source": [
    "features = digital_features + not_digital_features"
   ]
  },
  {
   "cell_type": "code",
   "execution_count": 46,
   "metadata": {
    "execution": {
     "iopub.execute_input": "2021-11-07T10:38:39.701173Z",
     "iopub.status.busy": "2021-11-07T10:38:39.698614Z",
     "iopub.status.idle": "2021-11-07T10:38:39.847958Z",
     "shell.execute_reply": "2021-11-07T10:38:39.847274Z",
     "shell.execute_reply.started": "2021-11-07T09:41:18.285707Z"
    },
    "papermill": {
     "duration": 0.203902,
     "end_time": "2021-11-07T10:38:39.848458",
     "exception": true,
     "start_time": "2021-11-07T10:38:39.644556",
     "status": "failed"
    },
    "tags": []
   },
   "outputs": [],
   "source": [
    "X_val = preds_2\n",
    "\n",
    "val_preds = mlp.predict_proba(X_val[features])[:,1]"
   ]
  },
  {
   "cell_type": "code",
   "execution_count": 47,
   "metadata": {
    "execution": {
     "iopub.execute_input": "2021-11-07T09:41:21.896328Z",
     "iopub.status.busy": "2021-11-07T09:41:21.895411Z",
     "iopub.status.idle": "2021-11-07T09:49:51.503411Z",
     "shell.execute_reply": "2021-11-07T09:49:51.502351Z",
     "shell.execute_reply.started": "2021-11-07T09:41:21.896283Z"
    },
    "papermill": {
     "duration": null,
     "end_time": null,
     "exception": null,
     "start_time": null,
     "status": "pending"
    },
    "tags": []
   },
   "outputs": [],
   "source": [
    "preds_2['proba'] = val_preds\n",
    "\n",
    "recomendations = preds_2[['user_id', 'item_id', 'proba']]"
   ]
  },
  {
   "cell_type": "code",
   "execution_count": 48,
   "metadata": {
    "execution": {
     "iopub.execute_input": "2021-11-07T09:16:50.347086Z",
     "iopub.status.busy": "2021-11-07T09:16:50.346763Z",
     "iopub.status.idle": "2021-11-07T09:16:50.352501Z",
     "shell.execute_reply": "2021-11-07T09:16:50.351667Z",
     "shell.execute_reply.started": "2021-11-07T09:16:50.347042Z"
    },
    "papermill": {
     "duration": null,
     "end_time": null,
     "exception": null,
     "start_time": null,
     "status": "pending"
    },
    "tags": []
   },
   "outputs": [
    {
     "data": {
      "text/html": [
       "<div>\n",
       "<style scoped>\n",
       "    .dataframe tbody tr th:only-of-type {\n",
       "        vertical-align: middle;\n",
       "    }\n",
       "\n",
       "    .dataframe tbody tr th {\n",
       "        vertical-align: top;\n",
       "    }\n",
       "\n",
       "    .dataframe thead th {\n",
       "        text-align: right;\n",
       "    }\n",
       "</style>\n",
       "<table border=\"1\" class=\"dataframe\">\n",
       "  <thead>\n",
       "    <tr style=\"text-align: right;\">\n",
       "      <th></th>\n",
       "      <th>user_id</th>\n",
       "      <th>mlp_recs</th>\n",
       "      <th>actual</th>\n",
       "    </tr>\n",
       "  </thead>\n",
       "  <tbody>\n",
       "    <tr>\n",
       "      <th>0</th>\n",
       "      <td>1</td>\n",
       "      <td>[995242.0, 995242.0, 1029743.0, 840361.0, 1082...</td>\n",
       "      <td>[821867, 834484, 856942, 865456, 889248, 90795...</td>\n",
       "    </tr>\n",
       "    <tr>\n",
       "      <th>1</th>\n",
       "      <td>3</td>\n",
       "      <td>[1082185.0, 6534178.0, 1029743.0, 1106523.0, 9...</td>\n",
       "      <td>[835476, 851057, 872021, 878302, 879948, 90963...</td>\n",
       "    </tr>\n",
       "    <tr>\n",
       "      <th>2</th>\n",
       "      <td>6</td>\n",
       "      <td>[1082185.0, 1082185.0, 6534178.0, 1029743.0, 9...</td>\n",
       "      <td>[920308, 926804, 946489, 1006718, 1017061, 107...</td>\n",
       "    </tr>\n",
       "    <tr>\n",
       "      <th>3</th>\n",
       "      <td>7</td>\n",
       "      <td>[1082185.0, 1082185.0, 6534178.0, 1029743.0, 1...</td>\n",
       "      <td>[840386, 889774, 898068, 909714, 929067, 95347...</td>\n",
       "    </tr>\n",
       "    <tr>\n",
       "      <th>4</th>\n",
       "      <td>8</td>\n",
       "      <td>[1082185.0, 1082185.0, 6534178.0, 1029743.0, 1...</td>\n",
       "      <td>[835098, 872137, 910439, 924610, 992977, 10412...</td>\n",
       "    </tr>\n",
       "  </tbody>\n",
       "</table>\n",
       "</div>"
      ],
      "text/plain": [
       "   user_id                                           mlp_recs  \\\n",
       "0        1  [995242.0, 995242.0, 1029743.0, 840361.0, 1082...   \n",
       "1        3  [1082185.0, 6534178.0, 1029743.0, 1106523.0, 9...   \n",
       "2        6  [1082185.0, 1082185.0, 6534178.0, 1029743.0, 9...   \n",
       "3        7  [1082185.0, 1082185.0, 6534178.0, 1029743.0, 1...   \n",
       "4        8  [1082185.0, 1082185.0, 6534178.0, 1029743.0, 1...   \n",
       "\n",
       "                                              actual  \n",
       "0  [821867, 834484, 856942, 865456, 889248, 90795...  \n",
       "1  [835476, 851057, 872021, 878302, 879948, 90963...  \n",
       "2  [920308, 926804, 946489, 1006718, 1017061, 107...  \n",
       "3  [840386, 889774, 898068, 909714, 929067, 95347...  \n",
       "4  [835098, 872137, 910439, 924610, 992977, 10412...  "
      ]
     },
     "execution_count": 48,
     "metadata": {},
     "output_type": "execute_result"
    }
   ],
   "source": [
    "mlp_recs = pd.DataFrame(recomendations.sort_values(['user_id', 'proba'], ascending=False).groupby('user_id')\\\n",
    "             .apply(lambda x: x['item_id'].iloc[:5].values)).rename(columns={0: 'mlp_recs'})\n",
    "\n",
    "mlp_recs_test = mlp_recs.merge(\n",
    "    pd.DataFrame(\n",
    "        data_val_lvl_2.groupby('user_id')['item_id'].unique()).rename(columns={'item_id': 'actual'}).reset_index(), how='left',on='user_id')\n",
    "\n",
    "mlp_recs_test.head(5)"
   ]
  },
  {
   "cell_type": "markdown",
   "metadata": {},
   "source": [
    "### Результаты работы модели второго уровня:"
   ]
  },
  {
   "cell_type": "code",
   "execution_count": 49,
   "metadata": {
    "execution": {
     "iopub.execute_input": "2021-11-07T10:19:26.087846Z",
     "iopub.status.busy": "2021-11-07T10:19:26.087527Z",
     "iopub.status.idle": "2021-11-07T10:19:42.781896Z",
     "shell.execute_reply": "2021-11-07T10:19:42.780864Z",
     "shell.execute_reply.started": "2021-11-07T10:19:26.087812Z"
    },
    "papermill": {
     "duration": null,
     "end_time": null,
     "exception": null,
     "start_time": null,
     "status": "pending"
    },
    "tags": []
   },
   "outputs": [
    {
     "data": {
      "text/plain": [
       "3.6566656979547476"
      ]
     },
     "execution_count": 49,
     "metadata": {},
     "output_type": "execute_result"
    }
   ],
   "source": [
    "# приблизительная оценка работы модели (на неё ориентировалась, подбирая параметры):\n",
    "\n",
    "mlp_recs_test.apply(lambda x: recall_at_k(x['mlp_recs'], x['actual']), axis=1).mean() * 100"
   ]
  },
  {
   "cell_type": "code",
   "execution_count": 50,
   "metadata": {
    "execution": {
     "iopub.execute_input": "2021-11-07T10:19:46.001298Z",
     "iopub.status.busy": "2021-11-07T10:19:46.000446Z",
     "iopub.status.idle": "2021-11-07T10:19:46.018177Z",
     "shell.execute_reply": "2021-11-07T10:19:46.017226Z",
     "shell.execute_reply.started": "2021-11-07T10:19:46.001242Z"
    },
    "papermill": {
     "duration": null,
     "end_time": null,
     "exception": null,
     "start_time": null,
     "status": "pending"
    },
    "tags": []
   },
   "outputs": [
    {
     "data": {
      "text/html": [
       "<div>\n",
       "<style scoped>\n",
       "    .dataframe tbody tr th:only-of-type {\n",
       "        vertical-align: middle;\n",
       "    }\n",
       "\n",
       "    .dataframe tbody tr th {\n",
       "        vertical-align: top;\n",
       "    }\n",
       "\n",
       "    .dataframe thead th {\n",
       "        text-align: right;\n",
       "    }\n",
       "</style>\n",
       "<table border=\"1\" class=\"dataframe\">\n",
       "  <thead>\n",
       "    <tr style=\"text-align: right;\">\n",
       "      <th></th>\n",
       "      <th>user_id</th>\n",
       "      <th>mlp_recs</th>\n",
       "    </tr>\n",
       "  </thead>\n",
       "  <tbody>\n",
       "    <tr>\n",
       "      <th>0</th>\n",
       "      <td>1</td>\n",
       "      <td>[995242.0, 995242.0, 1029743.0, 840361.0, 1082...</td>\n",
       "    </tr>\n",
       "    <tr>\n",
       "      <th>1</th>\n",
       "      <td>3</td>\n",
       "      <td>[1082185.0, 6534178.0, 1029743.0, 1106523.0, 9...</td>\n",
       "    </tr>\n",
       "    <tr>\n",
       "      <th>2</th>\n",
       "      <td>6</td>\n",
       "      <td>[1082185.0, 1082185.0, 6534178.0, 1029743.0, 9...</td>\n",
       "    </tr>\n",
       "    <tr>\n",
       "      <th>3</th>\n",
       "      <td>7</td>\n",
       "      <td>[1082185.0, 1082185.0, 6534178.0, 1029743.0, 1...</td>\n",
       "    </tr>\n",
       "    <tr>\n",
       "      <th>4</th>\n",
       "      <td>8</td>\n",
       "      <td>[1082185.0, 1082185.0, 6534178.0, 1029743.0, 1...</td>\n",
       "    </tr>\n",
       "    <tr>\n",
       "      <th>...</th>\n",
       "      <td>...</td>\n",
       "      <td>...</td>\n",
       "    </tr>\n",
       "    <tr>\n",
       "      <th>2036</th>\n",
       "      <td>2496</td>\n",
       "      <td>[1082185.0, 6534178.0, 981760.0, 981760.0, 108...</td>\n",
       "    </tr>\n",
       "    <tr>\n",
       "      <th>2037</th>\n",
       "      <td>2497</td>\n",
       "      <td>[1082185.0, 6534178.0, 1029743.0, 995242.0, 86...</td>\n",
       "    </tr>\n",
       "    <tr>\n",
       "      <th>2038</th>\n",
       "      <td>2498</td>\n",
       "      <td>[1082185.0, 6534178.0, 1029743.0, 1106523.0, 1...</td>\n",
       "    </tr>\n",
       "    <tr>\n",
       "      <th>2039</th>\n",
       "      <td>2499</td>\n",
       "      <td>[1070820.0, 1070820.0, 1082185.0, 6534178.0, 1...</td>\n",
       "    </tr>\n",
       "    <tr>\n",
       "      <th>2040</th>\n",
       "      <td>2500</td>\n",
       "      <td>[981760.0, 1029743.0, 995242.0, 6534178.0, 108...</td>\n",
       "    </tr>\n",
       "  </tbody>\n",
       "</table>\n",
       "<p>2041 rows × 2 columns</p>\n",
       "</div>"
      ],
      "text/plain": [
       "      user_id                                           mlp_recs\n",
       "0           1  [995242.0, 995242.0, 1029743.0, 840361.0, 1082...\n",
       "1           3  [1082185.0, 6534178.0, 1029743.0, 1106523.0, 9...\n",
       "2           6  [1082185.0, 1082185.0, 6534178.0, 1029743.0, 9...\n",
       "3           7  [1082185.0, 1082185.0, 6534178.0, 1029743.0, 1...\n",
       "4           8  [1082185.0, 1082185.0, 6534178.0, 1029743.0, 1...\n",
       "...       ...                                                ...\n",
       "2036     2496  [1082185.0, 6534178.0, 981760.0, 981760.0, 108...\n",
       "2037     2497  [1082185.0, 6534178.0, 1029743.0, 995242.0, 86...\n",
       "2038     2498  [1082185.0, 6534178.0, 1029743.0, 1106523.0, 1...\n",
       "2039     2499  [1070820.0, 1070820.0, 1082185.0, 6534178.0, 1...\n",
       "2040     2500  [981760.0, 1029743.0, 995242.0, 6534178.0, 108...\n",
       "\n",
       "[2041 rows x 2 columns]"
      ]
     },
     "execution_count": 50,
     "metadata": {},
     "output_type": "execute_result"
    }
   ],
   "source": [
    "mlp_recs.rename(columns={'user_id': 'user_id'})\n",
    "mlp_recs = mlp_recs.reset_index()\n",
    "\n",
    "mlp_recs"
   ]
  },
  {
   "cell_type": "code",
   "execution_count": 53,
   "metadata": {
    "execution": {
     "iopub.execute_input": "2021-11-07T10:19:48.008870Z",
     "iopub.status.busy": "2021-11-07T10:19:48.008252Z",
     "iopub.status.idle": "2021-11-07T10:19:48.017571Z",
     "shell.execute_reply": "2021-11-07T10:19:48.016592Z",
     "shell.execute_reply.started": "2021-11-07T10:19:48.008825Z"
    },
    "papermill": {
     "duration": null,
     "end_time": null,
     "exception": null,
     "start_time": null,
     "status": "pending"
    },
    "tags": []
   },
   "outputs": [],
   "source": [
    "data_test = pd.read_csv('test_users.csv')\n",
    "\n",
    "# data_test"
   ]
  },
  {
   "cell_type": "code",
   "execution_count": 54,
   "metadata": {
    "execution": {
     "iopub.execute_input": "2021-11-07T10:19:49.525602Z",
     "iopub.status.busy": "2021-11-07T10:19:49.524770Z",
     "iopub.status.idle": "2021-11-07T10:19:51.970714Z",
     "shell.execute_reply": "2021-11-07T10:19:51.969886Z",
     "shell.execute_reply.started": "2021-11-07T10:19:49.525563Z"
    },
    "papermill": {
     "duration": null,
     "end_time": null,
     "exception": null,
     "start_time": null,
     "status": "pending"
    },
    "tags": []
   },
   "outputs": [
    {
     "data": {
      "text/html": [
       "<div>\n",
       "<style scoped>\n",
       "    .dataframe tbody tr th:only-of-type {\n",
       "        vertical-align: middle;\n",
       "    }\n",
       "\n",
       "    .dataframe tbody tr th {\n",
       "        vertical-align: top;\n",
       "    }\n",
       "\n",
       "    .dataframe thead th {\n",
       "        text-align: right;\n",
       "    }\n",
       "</style>\n",
       "<table border=\"1\" class=\"dataframe\">\n",
       "  <thead>\n",
       "    <tr style=\"text-align: right;\">\n",
       "      <th></th>\n",
       "      <th>UserId</th>\n",
       "      <th>Predicted</th>\n",
       "    </tr>\n",
       "  </thead>\n",
       "  <tbody>\n",
       "    <tr>\n",
       "      <th>0</th>\n",
       "      <td>1</td>\n",
       "      <td>995242  995242 1029743  840361 1082185</td>\n",
       "    </tr>\n",
       "    <tr>\n",
       "      <th>1</th>\n",
       "      <td>2</td>\n",
       "      <td>1082185 981760 995242 1029743 840361</td>\n",
       "    </tr>\n",
       "    <tr>\n",
       "      <th>2</th>\n",
       "      <td>3</td>\n",
       "      <td>1082185 6534178 1029743 1106523  951590</td>\n",
       "    </tr>\n",
       "    <tr>\n",
       "      <th>3</th>\n",
       "      <td>6</td>\n",
       "      <td>1082185 1082185 6534178 1029743  995242</td>\n",
       "    </tr>\n",
       "    <tr>\n",
       "      <th>4</th>\n",
       "      <td>7</td>\n",
       "      <td>1082185 1082185 6534178 1029743 1106523</td>\n",
       "    </tr>\n",
       "    <tr>\n",
       "      <th>...</th>\n",
       "      <td>...</td>\n",
       "      <td>...</td>\n",
       "    </tr>\n",
       "    <tr>\n",
       "      <th>1703</th>\n",
       "      <td>2494</td>\n",
       "      <td>1082185 6534178 1029743  840361 1127831</td>\n",
       "    </tr>\n",
       "    <tr>\n",
       "      <th>1704</th>\n",
       "      <td>2496</td>\n",
       "      <td>1082185 6534178  981760  981760 1082185</td>\n",
       "    </tr>\n",
       "    <tr>\n",
       "      <th>1705</th>\n",
       "      <td>2498</td>\n",
       "      <td>1082185 6534178 1029743 1106523 1106523</td>\n",
       "    </tr>\n",
       "    <tr>\n",
       "      <th>1706</th>\n",
       "      <td>2499</td>\n",
       "      <td>1070820 1070820 1082185 6534178 1029743</td>\n",
       "    </tr>\n",
       "    <tr>\n",
       "      <th>1707</th>\n",
       "      <td>2500</td>\n",
       "      <td>981760 1029743  995242 6534178 1082185</td>\n",
       "    </tr>\n",
       "  </tbody>\n",
       "</table>\n",
       "<p>1708 rows × 2 columns</p>\n",
       "</div>"
      ],
      "text/plain": [
       "      UserId                                Predicted\n",
       "0          1   995242  995242 1029743  840361 1082185\n",
       "1          2     1082185 981760 995242 1029743 840361\n",
       "2          3  1082185 6534178 1029743 1106523  951590\n",
       "3          6  1082185 1082185 6534178 1029743  995242\n",
       "4          7  1082185 1082185 6534178 1029743 1106523\n",
       "...      ...                                      ...\n",
       "1703    2494  1082185 6534178 1029743  840361 1127831\n",
       "1704    2496  1082185 6534178  981760  981760 1082185\n",
       "1705    2498  1082185 6534178 1029743 1106523 1106523\n",
       "1706    2499  1070820 1070820 1082185 6534178 1029743\n",
       "1707    2500   981760 1029743  995242 6534178 1082185\n",
       "\n",
       "[1708 rows x 2 columns]"
      ]
     },
     "execution_count": 54,
     "metadata": {},
     "output_type": "execute_result"
    }
   ],
   "source": [
    "for i in list(data_test['user_id'].unique()):\n",
    "    if bool(len(mlp_recs[mlp_recs['user_id'] == i])):\n",
    "        pred_value = str(tuple(mlp_recs[mlp_recs['user_id'] == i]['mlp_recs'])[0])\n",
    "        data_test.loc[data_test['user_id'] == i, 'preds'] = pred_value[1:len(pred_value)-1].replace('.','')\n",
    "    else: \n",
    "        data_test.loc[data_test['user_id'] == i, 'preds'] = '1082185 981760 995242 1029743 840361'\n",
    "\n",
    "data_test = data_test.rename(columns={'user_id': 'UserId', 'preds': 'Predicted'})\n",
    "data_test"
   ]
  },
  {
   "cell_type": "code",
   "execution_count": 55,
   "metadata": {
    "execution": {
     "iopub.execute_input": "2021-11-07T10:19:51.973233Z",
     "iopub.status.busy": "2021-11-07T10:19:51.972394Z",
     "iopub.status.idle": "2021-11-07T10:19:51.987066Z",
     "shell.execute_reply": "2021-11-07T10:19:51.986096Z",
     "shell.execute_reply.started": "2021-11-07T10:19:51.973187Z"
    },
    "papermill": {
     "duration": null,
     "end_time": null,
     "exception": null,
     "start_time": null,
     "status": "pending"
    },
    "tags": []
   },
   "outputs": [],
   "source": [
    "data_test.to_csv('submission_2StepModel.csv', index=False)"
   ]
  },
  {
   "cell_type": "markdown",
   "metadata": {},
   "source": [
    "##### Подбор наиболее значимых признаков (не улучшил результат)"
   ]
  },
  {
   "cell_type": "code",
   "execution_count": 57,
   "metadata": {
    "papermill": {
     "duration": null,
     "end_time": null,
     "exception": null,
     "start_time": null,
     "status": "pending"
    },
    "tags": []
   },
   "outputs": [],
   "source": [
    "X_val = preds_2\n",
    "\n",
    "for feature in features:\n",
    "    new_features = features.copy()\n",
    "    new_features.remove(feature)\n",
    "    mlp = MLPClassifier(random_state=1, solver='sgd', learning_rate_init=0.000001, max_iter=50).fit(X_train[new_features], y_train)\n",
    "    val_preds = mlp.predict_proba(X_val[new_features])[:,1]\n",
    "    preds_2['proba_' + feature] = val_preds"
   ]
  },
  {
   "cell_type": "code",
   "execution_count": 66,
   "metadata": {
    "papermill": {
     "duration": null,
     "end_time": null,
     "exception": null,
     "start_time": null,
     "status": "pending"
    },
    "tags": []
   },
   "outputs": [
    {
     "name": "stdout",
     "output_type": "stream",
     "text": [
      "manufacturer не очень полезный признак 0.00801087455717564\n",
      "average_cat_value полезный признак\n",
      "average_weekly_quantity полезный признак\n",
      "worth не очень полезный признак 0.00013265071824708485\n",
      "total_sum полезный признак\n",
      "average_receipt полезный признак\n",
      "most_popular_store полезный признак\n",
      "is_popular полезный признак\n",
      "is_favorite_cat не очень полезный признак 0.012533794700746892\n",
      "department полезный признак\n",
      "brand не очень полезный признак 0.006581973733361668\n",
      "commodity_desc полезный признак\n",
      "sub_commodity_desc не очень полезный признак 0.006074636197885397\n",
      "curr_size_of_product не очень полезный признак 0.014859589044072141\n",
      "average_weekly_quantity полезный признак\n",
      "age_desc полезный признак\n",
      "marital_status_code не очень полезный признак 0.0008776390398539391\n",
      "income_desc полезный признак\n",
      "homeowner_desc не очень полезный признак 0.009033497158346115\n",
      "hh_comp_desc не очень полезный признак 0.0006508735966161971\n",
      "household_size_desc полезный признак\n",
      "kid_category_desc полезный признак\n"
     ]
    }
   ],
   "source": [
    "best_features = []\n",
    "for feature in features:\n",
    "    recomendations = preds_2[['user_id', 'item_id', 'proba_'+feature]]\n",
    "    mlp_recs = pd.DataFrame(recomendations.sort_values(['user_id', 'proba_'+feature], ascending=False).groupby('user_id')\\\n",
    "             .apply(lambda x: x['item_id'].iloc[:5].values)).rename(columns={0: 'mlp_recs'})\n",
    "    mlp_recs_test = mlp_recs.merge(\n",
    "    pd.DataFrame(\n",
    "        data_val_lvl_2.groupby('user_id')['item_id'].unique()).rename(columns={'item_id': 'actual'}).reset_index(), how='left',on='user_id')\n",
    "    # print('excluding', feature, mlp_recs_test.apply(lambda x: recall_at_k(x['mlp_recs'], x['actual']), axis=1).mean() * 100 - 3.6445371300449025)\n",
    "    c = mlp_recs_test.apply(lambda x: recall_at_k(x['mlp_recs'], x['actual']), axis=1).mean() * 100 - 3.6445371300449025\n",
    "    if (c < 0):\n",
    "        print(feature, 'полезный признак')\n",
    "        best_features.append(feature)\n",
    "    else:\n",
    "        print(feature, 'не очень полезный признак', c)"
   ]
  },
  {
   "cell_type": "code",
   "execution_count": 67,
   "metadata": {
    "papermill": {
     "duration": null,
     "end_time": null,
     "exception": null,
     "start_time": null,
     "status": "pending"
    },
    "tags": []
   },
   "outputs": [],
   "source": [
    "best_features = best_features + ['commodity_desc', 'sub_commodity_desc']\n",
    "\n",
    "mlp = MLPClassifier(random_state=1, solver='sgd', learning_rate_init=0.000001, max_iter=50).fit(X_train[best_features], y_train)\n",
    "val_preds = mlp.predict_proba(X_val[best_features])[:,1]\n",
    "preds_2['proba'] = val_preds"
   ]
  },
  {
   "cell_type": "code",
   "execution_count": 68,
   "metadata": {
    "papermill": {
     "duration": null,
     "end_time": null,
     "exception": null,
     "start_time": null,
     "status": "pending"
    },
    "tags": []
   },
   "outputs": [
    {
     "data": {
      "text/plain": [
       "3.6447933206133016"
      ]
     },
     "execution_count": 68,
     "metadata": {},
     "output_type": "execute_result"
    }
   ],
   "source": [
    "recomendations = preds_2[['user_id', 'item_id', 'proba']]\n",
    "mlp_recs = pd.DataFrame(recomendations.sort_values(['user_id', 'proba'], ascending=False).groupby('user_id')\\\n",
    "                        .apply(lambda x: x['item_id'].iloc[:5].values)).rename(columns={0: 'mlp_recs'})\n",
    "mlp_recs_test = mlp_recs.merge(\n",
    "    pd.DataFrame(\n",
    "        data_val_lvl_2.groupby('user_id')['item_id'].unique()).rename(columns={'item_id': 'actual'}).reset_index(), how='left',on='user_id')\n",
    "\n",
    "mlp_recs_test.apply(lambda x: recall_at_k(x['mlp_recs'], x['actual']), axis=1).mean() * 100"
   ]
  }
 ],
 "metadata": {
  "kernelspec": {
   "display_name": "Python 3",
   "language": "python",
   "name": "python3"
  },
  "language_info": {
   "codemirror_mode": {
    "name": "ipython",
    "version": 3
   },
   "file_extension": ".py",
   "mimetype": "text/x-python",
   "name": "python",
   "nbconvert_exporter": "python",
   "pygments_lexer": "ipython3",
   "version": "3.8.3"
  },
  "papermill": {
   "default_parameters": {},
   "duration": 561.207316,
   "end_time": "2021-11-07T10:38:40.815158",
   "environment_variables": {},
   "exception": true,
   "input_path": "__notebook__.ipynb",
   "output_path": "__notebook__.ipynb",
   "parameters": {},
   "start_time": "2021-11-07T10:29:19.607842",
   "version": "2.3.3"
  },
  "widgets": {
   "application/vnd.jupyter.widget-state+json": {
    "state": {
     "07a1269ce9e24d6e8f62c1ff7e434ce1": {
      "model_module": "@jupyter-widgets/base",
      "model_module_version": "1.2.0",
      "model_name": "LayoutModel",
      "state": {
       "_model_module": "@jupyter-widgets/base",
       "_model_module_version": "1.2.0",
       "_model_name": "LayoutModel",
       "_view_count": null,
       "_view_module": "@jupyter-widgets/base",
       "_view_module_version": "1.2.0",
       "_view_name": "LayoutView",
       "align_content": null,
       "align_items": null,
       "align_self": null,
       "border": null,
       "bottom": null,
       "display": null,
       "flex": null,
       "flex_flow": null,
       "grid_area": null,
       "grid_auto_columns": null,
       "grid_auto_flow": null,
       "grid_auto_rows": null,
       "grid_column": null,
       "grid_gap": null,
       "grid_row": null,
       "grid_template_areas": null,
       "grid_template_columns": null,
       "grid_template_rows": null,
       "height": null,
       "justify_content": null,
       "justify_items": null,
       "left": null,
       "margin": null,
       "max_height": null,
       "max_width": null,
       "min_height": null,
       "min_width": null,
       "object_fit": null,
       "object_position": null,
       "order": null,
       "overflow": null,
       "overflow_x": null,
       "overflow_y": null,
       "padding": null,
       "right": null,
       "top": null,
       "visibility": null,
       "width": null
      }
     },
     "2af04be3328a4aac98124470b6b14a6c": {
      "model_module": "@jupyter-widgets/controls",
      "model_module_version": "1.5.0",
      "model_name": "ProgressStyleModel",
      "state": {
       "_model_module": "@jupyter-widgets/controls",
       "_model_module_version": "1.5.0",
       "_model_name": "ProgressStyleModel",
       "_view_count": null,
       "_view_module": "@jupyter-widgets/base",
       "_view_module_version": "1.2.0",
       "_view_name": "StyleView",
       "bar_color": null,
       "description_width": ""
      }
     },
     "2ba237d6293b4ee184f4c0da96142239": {
      "model_module": "@jupyter-widgets/controls",
      "model_module_version": "1.5.0",
      "model_name": "FloatProgressModel",
      "state": {
       "_dom_classes": [],
       "_model_module": "@jupyter-widgets/controls",
       "_model_module_version": "1.5.0",
       "_model_name": "FloatProgressModel",
       "_view_count": null,
       "_view_module": "@jupyter-widgets/controls",
       "_view_module_version": "1.5.0",
       "_view_name": "ProgressView",
       "bar_style": "success",
       "description": "",
       "description_tooltip": null,
       "layout": "IPY_MODEL_ea49ea45d0d84275bc0c061800b9b671",
       "max": 15,
       "min": 0,
       "orientation": "horizontal",
       "style": "IPY_MODEL_a758120f301f4a2daf0e696c8e7f4cb6",
       "value": 15
      }
     },
     "2d59a0afd5dc423f9be629381964507b": {
      "model_module": "@jupyter-widgets/base",
      "model_module_version": "1.2.0",
      "model_name": "LayoutModel",
      "state": {
       "_model_module": "@jupyter-widgets/base",
       "_model_module_version": "1.2.0",
       "_model_name": "LayoutModel",
       "_view_count": null,
       "_view_module": "@jupyter-widgets/base",
       "_view_module_version": "1.2.0",
       "_view_name": "LayoutView",
       "align_content": null,
       "align_items": null,
       "align_self": null,
       "border": null,
       "bottom": null,
       "display": null,
       "flex": null,
       "flex_flow": null,
       "grid_area": null,
       "grid_auto_columns": null,
       "grid_auto_flow": null,
       "grid_auto_rows": null,
       "grid_column": null,
       "grid_gap": null,
       "grid_row": null,
       "grid_template_areas": null,
       "grid_template_columns": null,
       "grid_template_rows": null,
       "height": null,
       "justify_content": null,
       "justify_items": null,
       "left": null,
       "margin": null,
       "max_height": null,
       "max_width": null,
       "min_height": null,
       "min_width": null,
       "object_fit": null,
       "object_position": null,
       "order": null,
       "overflow": null,
       "overflow_x": null,
       "overflow_y": null,
       "padding": null,
       "right": null,
       "top": null,
       "visibility": null,
       "width": null
      }
     },
     "3db6c1a581714304982b02c5cd7a0c58": {
      "model_module": "@jupyter-widgets/controls",
      "model_module_version": "1.5.0",
      "model_name": "DescriptionStyleModel",
      "state": {
       "_model_module": "@jupyter-widgets/controls",
       "_model_module_version": "1.5.0",
       "_model_name": "DescriptionStyleModel",
       "_view_count": null,
       "_view_module": "@jupyter-widgets/base",
       "_view_module_version": "1.2.0",
       "_view_name": "StyleView",
       "description_width": ""
      }
     },
     "58c7800593254d5e8b00b0fad6a1e81c": {
      "model_module": "@jupyter-widgets/controls",
      "model_module_version": "1.5.0",
      "model_name": "DescriptionStyleModel",
      "state": {
       "_model_module": "@jupyter-widgets/controls",
       "_model_module_version": "1.5.0",
       "_model_name": "DescriptionStyleModel",
       "_view_count": null,
       "_view_module": "@jupyter-widgets/base",
       "_view_module_version": "1.2.0",
       "_view_name": "StyleView",
       "description_width": ""
      }
     },
     "609f476a1ccc4042858c2f7924928e74": {
      "model_module": "@jupyter-widgets/base",
      "model_module_version": "1.2.0",
      "model_name": "LayoutModel",
      "state": {
       "_model_module": "@jupyter-widgets/base",
       "_model_module_version": "1.2.0",
       "_model_name": "LayoutModel",
       "_view_count": null,
       "_view_module": "@jupyter-widgets/base",
       "_view_module_version": "1.2.0",
       "_view_name": "LayoutView",
       "align_content": null,
       "align_items": null,
       "align_self": null,
       "border": null,
       "bottom": null,
       "display": null,
       "flex": null,
       "flex_flow": null,
       "grid_area": null,
       "grid_auto_columns": null,
       "grid_auto_flow": null,
       "grid_auto_rows": null,
       "grid_column": null,
       "grid_gap": null,
       "grid_row": null,
       "grid_template_areas": null,
       "grid_template_columns": null,
       "grid_template_rows": null,
       "height": null,
       "justify_content": null,
       "justify_items": null,
       "left": null,
       "margin": null,
       "max_height": null,
       "max_width": null,
       "min_height": null,
       "min_width": null,
       "object_fit": null,
       "object_position": null,
       "order": null,
       "overflow": null,
       "overflow_x": null,
       "overflow_y": null,
       "padding": null,
       "right": null,
       "top": null,
       "visibility": null,
       "width": null
      }
     },
     "68f781a5d71e484289262000c9d17d18": {
      "model_module": "@jupyter-widgets/controls",
      "model_module_version": "1.5.0",
      "model_name": "HTMLModel",
      "state": {
       "_dom_classes": [],
       "_model_module": "@jupyter-widgets/controls",
       "_model_module_version": "1.5.0",
       "_model_name": "HTMLModel",
       "_view_count": null,
       "_view_module": "@jupyter-widgets/controls",
       "_view_module_version": "1.5.0",
       "_view_name": "HTMLView",
       "description": "",
       "description_tooltip": null,
       "layout": "IPY_MODEL_2d59a0afd5dc423f9be629381964507b",
       "placeholder": "​",
       "style": "IPY_MODEL_3db6c1a581714304982b02c5cd7a0c58",
       "value": " 5001/5001 [00:01&lt;00:00, 4317.65it/s]"
      }
     },
     "749070c177d9452abf08965e0da33e2b": {
      "model_module": "@jupyter-widgets/base",
      "model_module_version": "1.2.0",
      "model_name": "LayoutModel",
      "state": {
       "_model_module": "@jupyter-widgets/base",
       "_model_module_version": "1.2.0",
       "_model_name": "LayoutModel",
       "_view_count": null,
       "_view_module": "@jupyter-widgets/base",
       "_view_module_version": "1.2.0",
       "_view_name": "LayoutView",
       "align_content": null,
       "align_items": null,
       "align_self": null,
       "border": null,
       "bottom": null,
       "display": null,
       "flex": null,
       "flex_flow": null,
       "grid_area": null,
       "grid_auto_columns": null,
       "grid_auto_flow": null,
       "grid_auto_rows": null,
       "grid_column": null,
       "grid_gap": null,
       "grid_row": null,
       "grid_template_areas": null,
       "grid_template_columns": null,
       "grid_template_rows": null,
       "height": null,
       "justify_content": null,
       "justify_items": null,
       "left": null,
       "margin": null,
       "max_height": null,
       "max_width": null,
       "min_height": null,
       "min_width": null,
       "object_fit": null,
       "object_position": null,
       "order": null,
       "overflow": null,
       "overflow_x": null,
       "overflow_y": null,
       "padding": null,
       "right": null,
       "top": null,
       "visibility": null,
       "width": null
      }
     },
     "7ca3bc4754f847b08f28533acefaa8dc": {
      "model_module": "@jupyter-widgets/controls",
      "model_module_version": "1.5.0",
      "model_name": "HTMLModel",
      "state": {
       "_dom_classes": [],
       "_model_module": "@jupyter-widgets/controls",
       "_model_module_version": "1.5.0",
       "_model_name": "HTMLModel",
       "_view_count": null,
       "_view_module": "@jupyter-widgets/controls",
       "_view_module_version": "1.5.0",
       "_view_name": "HTMLView",
       "description": "",
       "description_tooltip": null,
       "layout": "IPY_MODEL_609f476a1ccc4042858c2f7924928e74",
       "placeholder": "​",
       "style": "IPY_MODEL_58c7800593254d5e8b00b0fad6a1e81c",
       "value": "100%"
      }
     },
     "80b8b3d928514d12a567e9c9b4f5aff0": {
      "model_module": "@jupyter-widgets/controls",
      "model_module_version": "1.5.0",
      "model_name": "HTMLModel",
      "state": {
       "_dom_classes": [],
       "_model_module": "@jupyter-widgets/controls",
       "_model_module_version": "1.5.0",
       "_model_name": "HTMLModel",
       "_view_count": null,
       "_view_module": "@jupyter-widgets/controls",
       "_view_module_version": "1.5.0",
       "_view_name": "HTMLView",
       "description": "",
       "description_tooltip": null,
       "layout": "IPY_MODEL_749070c177d9452abf08965e0da33e2b",
       "placeholder": "​",
       "style": "IPY_MODEL_a3435c896cfc4a998f4f22ac87fc6c66",
       "value": "100%"
      }
     },
     "848a0cbde75c4b859f3bd960b5ebad64": {
      "model_module": "@jupyter-widgets/base",
      "model_module_version": "1.2.0",
      "model_name": "LayoutModel",
      "state": {
       "_model_module": "@jupyter-widgets/base",
       "_model_module_version": "1.2.0",
       "_model_name": "LayoutModel",
       "_view_count": null,
       "_view_module": "@jupyter-widgets/base",
       "_view_module_version": "1.2.0",
       "_view_name": "LayoutView",
       "align_content": null,
       "align_items": null,
       "align_self": null,
       "border": null,
       "bottom": null,
       "display": null,
       "flex": null,
       "flex_flow": null,
       "grid_area": null,
       "grid_auto_columns": null,
       "grid_auto_flow": null,
       "grid_auto_rows": null,
       "grid_column": null,
       "grid_gap": null,
       "grid_row": null,
       "grid_template_areas": null,
       "grid_template_columns": null,
       "grid_template_rows": null,
       "height": null,
       "justify_content": null,
       "justify_items": null,
       "left": null,
       "margin": null,
       "max_height": null,
       "max_width": null,
       "min_height": null,
       "min_width": null,
       "object_fit": null,
       "object_position": null,
       "order": null,
       "overflow": null,
       "overflow_x": null,
       "overflow_y": null,
       "padding": null,
       "right": null,
       "top": null,
       "visibility": null,
       "width": null
      }
     },
     "9ea91d7d07d842459ff79a95667c1b21": {
      "model_module": "@jupyter-widgets/controls",
      "model_module_version": "1.5.0",
      "model_name": "FloatProgressModel",
      "state": {
       "_dom_classes": [],
       "_model_module": "@jupyter-widgets/controls",
       "_model_module_version": "1.5.0",
       "_model_name": "FloatProgressModel",
       "_view_count": null,
       "_view_module": "@jupyter-widgets/controls",
       "_view_module_version": "1.5.0",
       "_view_name": "ProgressView",
       "bar_style": "success",
       "description": "",
       "description_tooltip": null,
       "layout": "IPY_MODEL_bde32c7494304e468e0fe1d0835ef512",
       "max": 5001,
       "min": 0,
       "orientation": "horizontal",
       "style": "IPY_MODEL_2af04be3328a4aac98124470b6b14a6c",
       "value": 5001
      }
     },
     "a3435c896cfc4a998f4f22ac87fc6c66": {
      "model_module": "@jupyter-widgets/controls",
      "model_module_version": "1.5.0",
      "model_name": "DescriptionStyleModel",
      "state": {
       "_model_module": "@jupyter-widgets/controls",
       "_model_module_version": "1.5.0",
       "_model_name": "DescriptionStyleModel",
       "_view_count": null,
       "_view_module": "@jupyter-widgets/base",
       "_view_module_version": "1.2.0",
       "_view_name": "StyleView",
       "description_width": ""
      }
     },
     "a35b2ff1d25440adb9fb792e27d6cf80": {
      "model_module": "@jupyter-widgets/controls",
      "model_module_version": "1.5.0",
      "model_name": "HTMLModel",
      "state": {
       "_dom_classes": [],
       "_model_module": "@jupyter-widgets/controls",
       "_model_module_version": "1.5.0",
       "_model_name": "HTMLModel",
       "_view_count": null,
       "_view_module": "@jupyter-widgets/controls",
       "_view_module_version": "1.5.0",
       "_view_name": "HTMLView",
       "description": "",
       "description_tooltip": null,
       "layout": "IPY_MODEL_f81794c3bb874c4982a368ad4db2398f",
       "placeholder": "​",
       "style": "IPY_MODEL_d971a2c1d2ae4a6fb0135a635202ddd8",
       "value": " 15/15 [00:04&lt;00:00,  3.61it/s]"
      }
     },
     "a758120f301f4a2daf0e696c8e7f4cb6": {
      "model_module": "@jupyter-widgets/controls",
      "model_module_version": "1.5.0",
      "model_name": "ProgressStyleModel",
      "state": {
       "_model_module": "@jupyter-widgets/controls",
       "_model_module_version": "1.5.0",
       "_model_name": "ProgressStyleModel",
       "_view_count": null,
       "_view_module": "@jupyter-widgets/base",
       "_view_module_version": "1.2.0",
       "_view_name": "StyleView",
       "bar_color": null,
       "description_width": ""
      }
     },
     "bde32c7494304e468e0fe1d0835ef512": {
      "model_module": "@jupyter-widgets/base",
      "model_module_version": "1.2.0",
      "model_name": "LayoutModel",
      "state": {
       "_model_module": "@jupyter-widgets/base",
       "_model_module_version": "1.2.0",
       "_model_name": "LayoutModel",
       "_view_count": null,
       "_view_module": "@jupyter-widgets/base",
       "_view_module_version": "1.2.0",
       "_view_name": "LayoutView",
       "align_content": null,
       "align_items": null,
       "align_self": null,
       "border": null,
       "bottom": null,
       "display": null,
       "flex": null,
       "flex_flow": null,
       "grid_area": null,
       "grid_auto_columns": null,
       "grid_auto_flow": null,
       "grid_auto_rows": null,
       "grid_column": null,
       "grid_gap": null,
       "grid_row": null,
       "grid_template_areas": null,
       "grid_template_columns": null,
       "grid_template_rows": null,
       "height": null,
       "justify_content": null,
       "justify_items": null,
       "left": null,
       "margin": null,
       "max_height": null,
       "max_width": null,
       "min_height": null,
       "min_width": null,
       "object_fit": null,
       "object_position": null,
       "order": null,
       "overflow": null,
       "overflow_x": null,
       "overflow_y": null,
       "padding": null,
       "right": null,
       "top": null,
       "visibility": null,
       "width": null
      }
     },
     "d2092ad4a4dc4593befa2c15ea55467d": {
      "model_module": "@jupyter-widgets/controls",
      "model_module_version": "1.5.0",
      "model_name": "HBoxModel",
      "state": {
       "_dom_classes": [],
       "_model_module": "@jupyter-widgets/controls",
       "_model_module_version": "1.5.0",
       "_model_name": "HBoxModel",
       "_view_count": null,
       "_view_module": "@jupyter-widgets/controls",
       "_view_module_version": "1.5.0",
       "_view_name": "HBoxView",
       "box_style": "",
       "children": [
        "IPY_MODEL_7ca3bc4754f847b08f28533acefaa8dc",
        "IPY_MODEL_9ea91d7d07d842459ff79a95667c1b21",
        "IPY_MODEL_68f781a5d71e484289262000c9d17d18"
       ],
       "layout": "IPY_MODEL_848a0cbde75c4b859f3bd960b5ebad64"
      }
     },
     "d971a2c1d2ae4a6fb0135a635202ddd8": {
      "model_module": "@jupyter-widgets/controls",
      "model_module_version": "1.5.0",
      "model_name": "DescriptionStyleModel",
      "state": {
       "_model_module": "@jupyter-widgets/controls",
       "_model_module_version": "1.5.0",
       "_model_name": "DescriptionStyleModel",
       "_view_count": null,
       "_view_module": "@jupyter-widgets/base",
       "_view_module_version": "1.2.0",
       "_view_name": "StyleView",
       "description_width": ""
      }
     },
     "ddf429ce29614bdb9bf7c7103205c504": {
      "model_module": "@jupyter-widgets/controls",
      "model_module_version": "1.5.0",
      "model_name": "HBoxModel",
      "state": {
       "_dom_classes": [],
       "_model_module": "@jupyter-widgets/controls",
       "_model_module_version": "1.5.0",
       "_model_name": "HBoxModel",
       "_view_count": null,
       "_view_module": "@jupyter-widgets/controls",
       "_view_module_version": "1.5.0",
       "_view_name": "HBoxView",
       "box_style": "",
       "children": [
        "IPY_MODEL_80b8b3d928514d12a567e9c9b4f5aff0",
        "IPY_MODEL_2ba237d6293b4ee184f4c0da96142239",
        "IPY_MODEL_a35b2ff1d25440adb9fb792e27d6cf80"
       ],
       "layout": "IPY_MODEL_07a1269ce9e24d6e8f62c1ff7e434ce1"
      }
     },
     "ea49ea45d0d84275bc0c061800b9b671": {
      "model_module": "@jupyter-widgets/base",
      "model_module_version": "1.2.0",
      "model_name": "LayoutModel",
      "state": {
       "_model_module": "@jupyter-widgets/base",
       "_model_module_version": "1.2.0",
       "_model_name": "LayoutModel",
       "_view_count": null,
       "_view_module": "@jupyter-widgets/base",
       "_view_module_version": "1.2.0",
       "_view_name": "LayoutView",
       "align_content": null,
       "align_items": null,
       "align_self": null,
       "border": null,
       "bottom": null,
       "display": null,
       "flex": null,
       "flex_flow": null,
       "grid_area": null,
       "grid_auto_columns": null,
       "grid_auto_flow": null,
       "grid_auto_rows": null,
       "grid_column": null,
       "grid_gap": null,
       "grid_row": null,
       "grid_template_areas": null,
       "grid_template_columns": null,
       "grid_template_rows": null,
       "height": null,
       "justify_content": null,
       "justify_items": null,
       "left": null,
       "margin": null,
       "max_height": null,
       "max_width": null,
       "min_height": null,
       "min_width": null,
       "object_fit": null,
       "object_position": null,
       "order": null,
       "overflow": null,
       "overflow_x": null,
       "overflow_y": null,
       "padding": null,
       "right": null,
       "top": null,
       "visibility": null,
       "width": null
      }
     },
     "f81794c3bb874c4982a368ad4db2398f": {
      "model_module": "@jupyter-widgets/base",
      "model_module_version": "1.2.0",
      "model_name": "LayoutModel",
      "state": {
       "_model_module": "@jupyter-widgets/base",
       "_model_module_version": "1.2.0",
       "_model_name": "LayoutModel",
       "_view_count": null,
       "_view_module": "@jupyter-widgets/base",
       "_view_module_version": "1.2.0",
       "_view_name": "LayoutView",
       "align_content": null,
       "align_items": null,
       "align_self": null,
       "border": null,
       "bottom": null,
       "display": null,
       "flex": null,
       "flex_flow": null,
       "grid_area": null,
       "grid_auto_columns": null,
       "grid_auto_flow": null,
       "grid_auto_rows": null,
       "grid_column": null,
       "grid_gap": null,
       "grid_row": null,
       "grid_template_areas": null,
       "grid_template_columns": null,
       "grid_template_rows": null,
       "height": null,
       "justify_content": null,
       "justify_items": null,
       "left": null,
       "margin": null,
       "max_height": null,
       "max_width": null,
       "min_height": null,
       "min_width": null,
       "object_fit": null,
       "object_position": null,
       "order": null,
       "overflow": null,
       "overflow_x": null,
       "overflow_y": null,
       "padding": null,
       "right": null,
       "top": null,
       "visibility": null,
       "width": null
      }
     }
    },
    "version_major": 2,
    "version_minor": 0
   }
  }
 },
 "nbformat": 4,
 "nbformat_minor": 5
}
